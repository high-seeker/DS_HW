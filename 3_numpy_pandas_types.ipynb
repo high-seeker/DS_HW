{
 "cells": [
  {
   "cell_type": "markdown",
   "metadata": {
    "pycharm": {
     "name": "#%% md\n"
    }
   },
   "source": [
    "# Домашнее задание по теме: пакеты `pandas` и `numpy` (типы данных)"
   ]
  },
  {
   "cell_type": "markdown",
   "metadata": {},
   "source": [
    "## Подготовка окружения"
   ]
  },
  {
   "cell_type": "code",
   "execution_count": 3,
   "metadata": {
    "collapsed": false,
    "jupyter": {
     "outputs_hidden": false
    },
    "pycharm": {
     "name": "#%%\n"
    }
   },
   "outputs": [
    {
     "name": "stdout",
     "output_type": "stream",
     "text": [
      "pip 20.2.4 from G:\\ProgramData\\Anaconda3\\lib\\site-packages\\pip (python 3.8)\n",
      "\n"
     ]
    }
   ],
   "source": [
    "# ВНИМАНИЕ: необходимо удостовериться, что виртуальная среда выбрана правильно!\n",
    "\n",
    "!pip -V"
   ]
  },
  {
   "cell_type": "code",
   "execution_count": 4,
   "metadata": {
    "collapsed": false,
    "jupyter": {
     "outputs_hidden": false
    },
    "pycharm": {
     "name": "#%%\n"
    }
   },
   "outputs": [],
   "source": [
    "# !conda install pandas numpy -y"
   ]
  },
  {
   "cell_type": "code",
   "execution_count": 5,
   "metadata": {},
   "outputs": [],
   "source": [
    "import datetime"
   ]
  },
  {
   "cell_type": "code",
   "execution_count": 6,
   "metadata": {
    "collapsed": false,
    "jupyter": {
     "outputs_hidden": false
    },
    "pycharm": {
     "name": "#%%\n"
    }
   },
   "outputs": [
    {
     "data": {
      "text/plain": [
       "'1.19.2'"
      ]
     },
     "execution_count": 6,
     "metadata": {},
     "output_type": "execute_result"
    }
   ],
   "source": [
    "import numpy as np\n",
    "\n",
    "np.__version__"
   ]
  },
  {
   "cell_type": "code",
   "execution_count": 7,
   "metadata": {
    "collapsed": false,
    "jupyter": {
     "outputs_hidden": false
    },
    "pycharm": {
     "name": "#%%\n"
    }
   },
   "outputs": [
    {
     "data": {
      "text/plain": [
       "'1.1.3'"
      ]
     },
     "execution_count": 7,
     "metadata": {},
     "output_type": "execute_result"
    }
   ],
   "source": [
    "import pandas as pd\n",
    "\n",
    "pd.__version__"
   ]
  },
  {
   "cell_type": "markdown",
   "metadata": {},
   "source": [
    "## Пакет `numpy`: типы данных"
   ]
  },
  {
   "cell_type": "markdown",
   "metadata": {},
   "source": [
    "**Задача:**\n",
    "- Преобразовать тип переменной `val` в другие типы (как указано в комментарии).\n",
    "- Вывести результат преобразования.\n",
    "- *Если результат преобразования непонятен, то разобраться самостоятельно (можно написать свои рассуждения в комментариях и преподаватель ответит при проверке) или попросить помощи у преподавателя.\n",
    "\n",
    "**Пример:**"
   ]
  },
  {
   "cell_type": "code",
   "execution_count": 8,
   "metadata": {},
   "outputs": [
    {
     "name": "stdout",
     "output_type": "stream",
     "text": [
      "type: <class 'int'>\n",
      "value: -1\n"
     ]
    }
   ],
   "source": [
    "val = -1\n",
    "\n",
    "print(f\"type: {type(val)}\\nvalue: {val}\")"
   ]
  },
  {
   "cell_type": "code",
   "execution_count": 13,
   "metadata": {},
   "outputs": [
    {
     "data": {
      "text/plain": [
       "18446744073709551487"
      ]
     },
     "execution_count": 13,
     "metadata": {},
     "output_type": "execute_result"
    }
   ],
   "source": [
    "# -> numpy.uint64\n",
    "np.uint64(val)"
   ]
  },
  {
   "cell_type": "markdown",
   "metadata": {},
   "source": [
    "**Задание (ДЗ):**"
   ]
  },
  {
   "cell_type": "code",
   "execution_count": 14,
   "metadata": {},
   "outputs": [
    {
     "name": "stdout",
     "output_type": "stream",
     "text": [
      "type: <class 'int'>\n",
      "value: -129\n"
     ]
    }
   ],
   "source": [
    "val = -129\n",
    "\n",
    "print(f\"type: {type(val)}\\nvalue: {val}\")"
   ]
  },
  {
   "cell_type": "code",
   "execution_count": 22,
   "metadata": {},
   "outputs": [
    {
     "name": "stdout",
     "output_type": "stream",
     "text": [
      "type: <class 'numpy.int8'>\n",
      "value: 127\n"
     ]
    }
   ],
   "source": [
    "# -> numpy.int8\n",
    "val_n = np.int8(val)\n",
    "\n",
    "print(f\"type: {type(val_n)}\\nvalue: {val_n}\")"
   ]
  },
  {
   "cell_type": "code",
   "execution_count": 23,
   "metadata": {},
   "outputs": [
    {
     "name": "stdout",
     "output_type": "stream",
     "text": [
      "type: <class 'numpy.int16'>\n",
      "value: -129\n"
     ]
    }
   ],
   "source": [
    "# -> numpy.int16\n",
    "val_n = np.int16(val)\n",
    "\n",
    "print(f\"type: {type(val_n)}\\nvalue: {val_n}\")"
   ]
  },
  {
   "cell_type": "code",
   "execution_count": 26,
   "metadata": {},
   "outputs": [
    {
     "name": "stdout",
     "output_type": "stream",
     "text": [
      "type: <class 'numpy.uint8'>\n",
      "value: 127\n"
     ]
    }
   ],
   "source": [
    "# -> numpy.uint8\n",
    "val_n = np.uint8(val)\n",
    "\n",
    "print(f\"type: {type(val_n)}\\nvalue: {val_n}\")"
   ]
  },
  {
   "cell_type": "code",
   "execution_count": 27,
   "metadata": {},
   "outputs": [
    {
     "name": "stdout",
     "output_type": "stream",
     "text": [
      "type: <class 'numpy.uint32'>\n",
      "value: 4294967167\n"
     ]
    }
   ],
   "source": [
    "# -> numpy.uint32\n",
    "val_n = np.uint32(val)\n",
    "\n",
    "print(f\"type: {type(val_n)}\\nvalue: {val_n}\")"
   ]
  },
  {
   "cell_type": "code",
   "execution_count": 69,
   "metadata": {},
   "outputs": [
    {
     "name": "stdout",
     "output_type": "stream",
     "text": [
      "type: <class 'numpy.float64'>\n",
      "value: -129.0\n"
     ]
    }
   ],
   "source": [
    "# -> numpy.float128\n",
    "val_n = np.float64(val)\n",
    "\n",
    "print(f\"type: {type(val_n)}\\nvalue: {val_n}\")"
   ]
  },
  {
   "cell_type": "code",
   "execution_count": 29,
   "metadata": {},
   "outputs": [
    {
     "name": "stdout",
     "output_type": "stream",
     "text": [
      "type: <class 'numpy.str_'>\n",
      "value: -129\n"
     ]
    }
   ],
   "source": [
    "# -> numpy.str_\n",
    "val_n = np.str_(val)\n",
    "\n",
    "print(f\"type: {type(val_n)}\\nvalue: {val_n}\")"
   ]
  },
  {
   "cell_type": "code",
   "execution_count": 30,
   "metadata": {},
   "outputs": [
    {
     "name": "stdout",
     "output_type": "stream",
     "text": [
      "type: <class 'numpy.bool_'>\n",
      "value: True\n"
     ]
    }
   ],
   "source": [
    "# -> numpy.bool_\n",
    "val_n = np.bool_(val)\n",
    "\n",
    "print(f\"type: {type(val_n)}\\nvalue: {val_n}\")"
   ]
  },
  {
   "cell_type": "markdown",
   "metadata": {},
   "source": [
    "**Задача:**\n",
    "- Преобразовать тип переменной (массив) `arr` в другие типы (как указано в комментарии).\n",
    "- Вывести результат преобразования.\n",
    "- *Если результат преобразования непонятен, то разобраться самостоятельно (можно написать свои рассуждения в комментариях и преподаватель ответит при проверке) или попросить помощи у преподавателя.\n",
    "\n",
    "**Пример:**"
   ]
  },
  {
   "cell_type": "code",
   "execution_count": 37,
   "metadata": {},
   "outputs": [
    {
     "name": "stdout",
     "output_type": "stream",
     "text": [
      "type: <class 'numpy.ndarray'>\n",
      "value: [-150 -120    0  120  150]\n"
     ]
    }
   ],
   "source": [
    "arr = np.array([-150, -120, 0, 120, 150])\n",
    "print(f\"type: {type(arr)}\\nvalue: {arr}\")"
   ]
  },
  {
   "cell_type": "code",
   "execution_count": 38,
   "metadata": {},
   "outputs": [
    {
     "name": "stdout",
     "output_type": "stream",
     "text": [
      "type: <class 'numpy.ndarray'>\n",
      "value: [18446744073709551466 18446744073709551496                    0\n",
      "                  120                  150]\n"
     ]
    }
   ],
   "source": [
    "# -> numpy.uint64\n",
    "arr_n = arr.astype(np.uint64)\n",
    "\n",
    "print(f\"type: {type(arr_n)}\\nvalue: {arr_n}\")"
   ]
  },
  {
   "cell_type": "markdown",
   "metadata": {},
   "source": [
    "**Задание (ДЗ):**"
   ]
  },
  {
   "cell_type": "code",
   "execution_count": 73,
   "metadata": {},
   "outputs": [
    {
     "name": "stdout",
     "output_type": "stream",
     "text": [
      "type: <class 'numpy.ndarray'>\n",
      "value: [ 106 -120    0  120 -106]\n"
     ]
    }
   ],
   "source": [
    "# -> numpy.int8\n",
    "arr_n = arr.astype(np.int8)\n",
    "\n",
    "print(f\"type: {type(arr_n)}\\nvalue: {arr_n}\")"
   ]
  },
  {
   "cell_type": "code",
   "execution_count": 74,
   "metadata": {},
   "outputs": [
    {
     "name": "stdout",
     "output_type": "stream",
     "text": [
      "type: <class 'numpy.ndarray'>\n",
      "value: ['-150' '-120' '0' '120' '150']\n"
     ]
    }
   ],
   "source": [
    "# -> numpy.str_\n",
    "arr_n = arr.astype(np.str_)\n",
    "\n",
    "print(f\"type: {type(arr_n)}\\nvalue: {arr_n}\")"
   ]
  },
  {
   "cell_type": "code",
   "execution_count": 75,
   "metadata": {},
   "outputs": [
    {
     "name": "stdout",
     "output_type": "stream",
     "text": [
      "type: <class 'numpy.ndarray'>\n",
      "value: [ True  True False  True  True]\n"
     ]
    }
   ],
   "source": [
    "# -> numpy.bool_\n",
    "arr_n = arr.astype(np.bool_)\n",
    "\n",
    "print(f\"type: {type(arr_n)}\\nvalue: {arr_n}\")"
   ]
  },
  {
   "cell_type": "code",
   "execution_count": 76,
   "metadata": {},
   "outputs": [
    {
     "name": "stdout",
     "output_type": "stream",
     "text": [
      "type: <class 'numpy.ndarray'>\n",
      "value: [106 136   0 120 150]\n"
     ]
    }
   ],
   "source": [
    "# -> numpy.uint8\n",
    "arr_n = arr.astype(np.uint8)\n",
    "\n",
    "print(f\"type: {type(arr_n)}\\nvalue: {arr_n}\")"
   ]
  },
  {
   "cell_type": "markdown",
   "metadata": {},
   "source": [
    "## Пакет `Pandas`: типы данных"
   ]
  },
  {
   "cell_type": "markdown",
   "metadata": {},
   "source": [
    "### Загрузка данных (Hotel booking demand)\n",
    "\n",
    "[Источник (Hotel booking demand)](https://www.kaggle.com/jessemostipak/hotel-booking-demand)\n",
    "\n",
    "[Описание колонок](https://www.sciencedirect.com/science/article/pii/S2352340918315191#t0005)\n",
    "\n",
    "ВНИМАНИЕ: Предварительно датасет необходимо скачать к себе на локальный компьютер."
   ]
  },
  {
   "cell_type": "code",
   "execution_count": 77,
   "metadata": {
    "collapsed": false,
    "jupyter": {
     "outputs_hidden": false
    },
    "pycharm": {
     "name": "#%%\n"
    }
   },
   "outputs": [
    {
     "data": {
      "text/html": [
       "<div>\n",
       "<style scoped>\n",
       "    .dataframe tbody tr th:only-of-type {\n",
       "        vertical-align: middle;\n",
       "    }\n",
       "\n",
       "    .dataframe tbody tr th {\n",
       "        vertical-align: top;\n",
       "    }\n",
       "\n",
       "    .dataframe thead th {\n",
       "        text-align: right;\n",
       "    }\n",
       "</style>\n",
       "<table border=\"1\" class=\"dataframe\">\n",
       "  <thead>\n",
       "    <tr style=\"text-align: right;\">\n",
       "      <th></th>\n",
       "      <th>is_canceled</th>\n",
       "      <th>lead_time</th>\n",
       "      <th>arrival_date_year</th>\n",
       "      <th>arrival_date_month</th>\n",
       "      <th>arrival_date_week_number</th>\n",
       "      <th>arrival_date_day_of_month</th>\n",
       "      <th>stays_in_weekend_nights</th>\n",
       "      <th>stays_in_week_nights</th>\n",
       "      <th>adults</th>\n",
       "      <th>children</th>\n",
       "      <th>babies</th>\n",
       "      <th>meal</th>\n",
       "      <th>country</th>\n",
       "      <th>market_segment</th>\n",
       "      <th>distribution_channel</th>\n",
       "      <th>is_repeated_guest</th>\n",
       "      <th>previous_cancellations</th>\n",
       "      <th>previous_bookings_not_canceled</th>\n",
       "      <th>reserved_room_type</th>\n",
       "      <th>assigned_room_type</th>\n",
       "      <th>booking_changes</th>\n",
       "      <th>deposit_type</th>\n",
       "      <th>agent</th>\n",
       "      <th>company</th>\n",
       "      <th>days_in_waiting_list</th>\n",
       "      <th>customer_type</th>\n",
       "      <th>adr</th>\n",
       "      <th>required_car_parking_spaces</th>\n",
       "      <th>total_of_special_requests</th>\n",
       "      <th>reservation_status</th>\n",
       "      <th>reservation_status_date</th>\n",
       "    </tr>\n",
       "    <tr>\n",
       "      <th>hotel</th>\n",
       "      <th></th>\n",
       "      <th></th>\n",
       "      <th></th>\n",
       "      <th></th>\n",
       "      <th></th>\n",
       "      <th></th>\n",
       "      <th></th>\n",
       "      <th></th>\n",
       "      <th></th>\n",
       "      <th></th>\n",
       "      <th></th>\n",
       "      <th></th>\n",
       "      <th></th>\n",
       "      <th></th>\n",
       "      <th></th>\n",
       "      <th></th>\n",
       "      <th></th>\n",
       "      <th></th>\n",
       "      <th></th>\n",
       "      <th></th>\n",
       "      <th></th>\n",
       "      <th></th>\n",
       "      <th></th>\n",
       "      <th></th>\n",
       "      <th></th>\n",
       "      <th></th>\n",
       "      <th></th>\n",
       "      <th></th>\n",
       "      <th></th>\n",
       "      <th></th>\n",
       "      <th></th>\n",
       "    </tr>\n",
       "  </thead>\n",
       "  <tbody>\n",
       "    <tr>\n",
       "      <th>Resort Hotel</th>\n",
       "      <td>0</td>\n",
       "      <td>342</td>\n",
       "      <td>2015</td>\n",
       "      <td>July</td>\n",
       "      <td>27</td>\n",
       "      <td>1</td>\n",
       "      <td>0</td>\n",
       "      <td>0</td>\n",
       "      <td>2</td>\n",
       "      <td>0.0</td>\n",
       "      <td>0</td>\n",
       "      <td>BB</td>\n",
       "      <td>PRT</td>\n",
       "      <td>Direct</td>\n",
       "      <td>Direct</td>\n",
       "      <td>0</td>\n",
       "      <td>0</td>\n",
       "      <td>0</td>\n",
       "      <td>C</td>\n",
       "      <td>C</td>\n",
       "      <td>3</td>\n",
       "      <td>No Deposit</td>\n",
       "      <td>NaN</td>\n",
       "      <td>NaN</td>\n",
       "      <td>0</td>\n",
       "      <td>Transient</td>\n",
       "      <td>0.00</td>\n",
       "      <td>0</td>\n",
       "      <td>0</td>\n",
       "      <td>Check-Out</td>\n",
       "      <td>2015-07-01</td>\n",
       "    </tr>\n",
       "    <tr>\n",
       "      <th>Resort Hotel</th>\n",
       "      <td>0</td>\n",
       "      <td>737</td>\n",
       "      <td>2015</td>\n",
       "      <td>July</td>\n",
       "      <td>27</td>\n",
       "      <td>1</td>\n",
       "      <td>0</td>\n",
       "      <td>0</td>\n",
       "      <td>2</td>\n",
       "      <td>0.0</td>\n",
       "      <td>0</td>\n",
       "      <td>BB</td>\n",
       "      <td>PRT</td>\n",
       "      <td>Direct</td>\n",
       "      <td>Direct</td>\n",
       "      <td>0</td>\n",
       "      <td>0</td>\n",
       "      <td>0</td>\n",
       "      <td>C</td>\n",
       "      <td>C</td>\n",
       "      <td>4</td>\n",
       "      <td>No Deposit</td>\n",
       "      <td>NaN</td>\n",
       "      <td>NaN</td>\n",
       "      <td>0</td>\n",
       "      <td>Transient</td>\n",
       "      <td>0.00</td>\n",
       "      <td>0</td>\n",
       "      <td>0</td>\n",
       "      <td>Check-Out</td>\n",
       "      <td>2015-07-01</td>\n",
       "    </tr>\n",
       "    <tr>\n",
       "      <th>Resort Hotel</th>\n",
       "      <td>0</td>\n",
       "      <td>7</td>\n",
       "      <td>2015</td>\n",
       "      <td>July</td>\n",
       "      <td>27</td>\n",
       "      <td>1</td>\n",
       "      <td>0</td>\n",
       "      <td>1</td>\n",
       "      <td>1</td>\n",
       "      <td>0.0</td>\n",
       "      <td>0</td>\n",
       "      <td>BB</td>\n",
       "      <td>GBR</td>\n",
       "      <td>Direct</td>\n",
       "      <td>Direct</td>\n",
       "      <td>0</td>\n",
       "      <td>0</td>\n",
       "      <td>0</td>\n",
       "      <td>A</td>\n",
       "      <td>C</td>\n",
       "      <td>0</td>\n",
       "      <td>No Deposit</td>\n",
       "      <td>NaN</td>\n",
       "      <td>NaN</td>\n",
       "      <td>0</td>\n",
       "      <td>Transient</td>\n",
       "      <td>75.00</td>\n",
       "      <td>0</td>\n",
       "      <td>0</td>\n",
       "      <td>Check-Out</td>\n",
       "      <td>2015-07-02</td>\n",
       "    </tr>\n",
       "    <tr>\n",
       "      <th>Resort Hotel</th>\n",
       "      <td>0</td>\n",
       "      <td>13</td>\n",
       "      <td>2015</td>\n",
       "      <td>July</td>\n",
       "      <td>27</td>\n",
       "      <td>1</td>\n",
       "      <td>0</td>\n",
       "      <td>1</td>\n",
       "      <td>1</td>\n",
       "      <td>0.0</td>\n",
       "      <td>0</td>\n",
       "      <td>BB</td>\n",
       "      <td>GBR</td>\n",
       "      <td>Corporate</td>\n",
       "      <td>Corporate</td>\n",
       "      <td>0</td>\n",
       "      <td>0</td>\n",
       "      <td>0</td>\n",
       "      <td>A</td>\n",
       "      <td>A</td>\n",
       "      <td>0</td>\n",
       "      <td>No Deposit</td>\n",
       "      <td>304.0</td>\n",
       "      <td>NaN</td>\n",
       "      <td>0</td>\n",
       "      <td>Transient</td>\n",
       "      <td>75.00</td>\n",
       "      <td>0</td>\n",
       "      <td>0</td>\n",
       "      <td>Check-Out</td>\n",
       "      <td>2015-07-02</td>\n",
       "    </tr>\n",
       "    <tr>\n",
       "      <th>Resort Hotel</th>\n",
       "      <td>0</td>\n",
       "      <td>14</td>\n",
       "      <td>2015</td>\n",
       "      <td>July</td>\n",
       "      <td>27</td>\n",
       "      <td>1</td>\n",
       "      <td>0</td>\n",
       "      <td>2</td>\n",
       "      <td>2</td>\n",
       "      <td>0.0</td>\n",
       "      <td>0</td>\n",
       "      <td>BB</td>\n",
       "      <td>GBR</td>\n",
       "      <td>Online TA</td>\n",
       "      <td>TA/TO</td>\n",
       "      <td>0</td>\n",
       "      <td>0</td>\n",
       "      <td>0</td>\n",
       "      <td>A</td>\n",
       "      <td>A</td>\n",
       "      <td>0</td>\n",
       "      <td>No Deposit</td>\n",
       "      <td>240.0</td>\n",
       "      <td>NaN</td>\n",
       "      <td>0</td>\n",
       "      <td>Transient</td>\n",
       "      <td>98.00</td>\n",
       "      <td>0</td>\n",
       "      <td>1</td>\n",
       "      <td>Check-Out</td>\n",
       "      <td>2015-07-03</td>\n",
       "    </tr>\n",
       "    <tr>\n",
       "      <th>...</th>\n",
       "      <td>...</td>\n",
       "      <td>...</td>\n",
       "      <td>...</td>\n",
       "      <td>...</td>\n",
       "      <td>...</td>\n",
       "      <td>...</td>\n",
       "      <td>...</td>\n",
       "      <td>...</td>\n",
       "      <td>...</td>\n",
       "      <td>...</td>\n",
       "      <td>...</td>\n",
       "      <td>...</td>\n",
       "      <td>...</td>\n",
       "      <td>...</td>\n",
       "      <td>...</td>\n",
       "      <td>...</td>\n",
       "      <td>...</td>\n",
       "      <td>...</td>\n",
       "      <td>...</td>\n",
       "      <td>...</td>\n",
       "      <td>...</td>\n",
       "      <td>...</td>\n",
       "      <td>...</td>\n",
       "      <td>...</td>\n",
       "      <td>...</td>\n",
       "      <td>...</td>\n",
       "      <td>...</td>\n",
       "      <td>...</td>\n",
       "      <td>...</td>\n",
       "      <td>...</td>\n",
       "      <td>...</td>\n",
       "    </tr>\n",
       "    <tr>\n",
       "      <th>City Hotel</th>\n",
       "      <td>0</td>\n",
       "      <td>23</td>\n",
       "      <td>2017</td>\n",
       "      <td>August</td>\n",
       "      <td>35</td>\n",
       "      <td>30</td>\n",
       "      <td>2</td>\n",
       "      <td>5</td>\n",
       "      <td>2</td>\n",
       "      <td>0.0</td>\n",
       "      <td>0</td>\n",
       "      <td>BB</td>\n",
       "      <td>BEL</td>\n",
       "      <td>Offline TA/TO</td>\n",
       "      <td>TA/TO</td>\n",
       "      <td>0</td>\n",
       "      <td>0</td>\n",
       "      <td>0</td>\n",
       "      <td>A</td>\n",
       "      <td>A</td>\n",
       "      <td>0</td>\n",
       "      <td>No Deposit</td>\n",
       "      <td>394.0</td>\n",
       "      <td>NaN</td>\n",
       "      <td>0</td>\n",
       "      <td>Transient</td>\n",
       "      <td>96.14</td>\n",
       "      <td>0</td>\n",
       "      <td>0</td>\n",
       "      <td>Check-Out</td>\n",
       "      <td>2017-09-06</td>\n",
       "    </tr>\n",
       "    <tr>\n",
       "      <th>City Hotel</th>\n",
       "      <td>0</td>\n",
       "      <td>102</td>\n",
       "      <td>2017</td>\n",
       "      <td>August</td>\n",
       "      <td>35</td>\n",
       "      <td>31</td>\n",
       "      <td>2</td>\n",
       "      <td>5</td>\n",
       "      <td>3</td>\n",
       "      <td>0.0</td>\n",
       "      <td>0</td>\n",
       "      <td>BB</td>\n",
       "      <td>FRA</td>\n",
       "      <td>Online TA</td>\n",
       "      <td>TA/TO</td>\n",
       "      <td>0</td>\n",
       "      <td>0</td>\n",
       "      <td>0</td>\n",
       "      <td>E</td>\n",
       "      <td>E</td>\n",
       "      <td>0</td>\n",
       "      <td>No Deposit</td>\n",
       "      <td>9.0</td>\n",
       "      <td>NaN</td>\n",
       "      <td>0</td>\n",
       "      <td>Transient</td>\n",
       "      <td>225.43</td>\n",
       "      <td>0</td>\n",
       "      <td>2</td>\n",
       "      <td>Check-Out</td>\n",
       "      <td>2017-09-07</td>\n",
       "    </tr>\n",
       "    <tr>\n",
       "      <th>City Hotel</th>\n",
       "      <td>0</td>\n",
       "      <td>34</td>\n",
       "      <td>2017</td>\n",
       "      <td>August</td>\n",
       "      <td>35</td>\n",
       "      <td>31</td>\n",
       "      <td>2</td>\n",
       "      <td>5</td>\n",
       "      <td>2</td>\n",
       "      <td>0.0</td>\n",
       "      <td>0</td>\n",
       "      <td>BB</td>\n",
       "      <td>DEU</td>\n",
       "      <td>Online TA</td>\n",
       "      <td>TA/TO</td>\n",
       "      <td>0</td>\n",
       "      <td>0</td>\n",
       "      <td>0</td>\n",
       "      <td>D</td>\n",
       "      <td>D</td>\n",
       "      <td>0</td>\n",
       "      <td>No Deposit</td>\n",
       "      <td>9.0</td>\n",
       "      <td>NaN</td>\n",
       "      <td>0</td>\n",
       "      <td>Transient</td>\n",
       "      <td>157.71</td>\n",
       "      <td>0</td>\n",
       "      <td>4</td>\n",
       "      <td>Check-Out</td>\n",
       "      <td>2017-09-07</td>\n",
       "    </tr>\n",
       "    <tr>\n",
       "      <th>City Hotel</th>\n",
       "      <td>0</td>\n",
       "      <td>109</td>\n",
       "      <td>2017</td>\n",
       "      <td>August</td>\n",
       "      <td>35</td>\n",
       "      <td>31</td>\n",
       "      <td>2</td>\n",
       "      <td>5</td>\n",
       "      <td>2</td>\n",
       "      <td>0.0</td>\n",
       "      <td>0</td>\n",
       "      <td>BB</td>\n",
       "      <td>GBR</td>\n",
       "      <td>Online TA</td>\n",
       "      <td>TA/TO</td>\n",
       "      <td>0</td>\n",
       "      <td>0</td>\n",
       "      <td>0</td>\n",
       "      <td>A</td>\n",
       "      <td>A</td>\n",
       "      <td>0</td>\n",
       "      <td>No Deposit</td>\n",
       "      <td>89.0</td>\n",
       "      <td>NaN</td>\n",
       "      <td>0</td>\n",
       "      <td>Transient</td>\n",
       "      <td>104.40</td>\n",
       "      <td>0</td>\n",
       "      <td>0</td>\n",
       "      <td>Check-Out</td>\n",
       "      <td>2017-09-07</td>\n",
       "    </tr>\n",
       "    <tr>\n",
       "      <th>City Hotel</th>\n",
       "      <td>0</td>\n",
       "      <td>205</td>\n",
       "      <td>2017</td>\n",
       "      <td>August</td>\n",
       "      <td>35</td>\n",
       "      <td>29</td>\n",
       "      <td>2</td>\n",
       "      <td>7</td>\n",
       "      <td>2</td>\n",
       "      <td>0.0</td>\n",
       "      <td>0</td>\n",
       "      <td>HB</td>\n",
       "      <td>DEU</td>\n",
       "      <td>Online TA</td>\n",
       "      <td>TA/TO</td>\n",
       "      <td>0</td>\n",
       "      <td>0</td>\n",
       "      <td>0</td>\n",
       "      <td>A</td>\n",
       "      <td>A</td>\n",
       "      <td>0</td>\n",
       "      <td>No Deposit</td>\n",
       "      <td>9.0</td>\n",
       "      <td>NaN</td>\n",
       "      <td>0</td>\n",
       "      <td>Transient</td>\n",
       "      <td>151.20</td>\n",
       "      <td>0</td>\n",
       "      <td>2</td>\n",
       "      <td>Check-Out</td>\n",
       "      <td>2017-09-07</td>\n",
       "    </tr>\n",
       "  </tbody>\n",
       "</table>\n",
       "<p>119390 rows × 31 columns</p>\n",
       "</div>"
      ],
      "text/plain": [
       "              is_canceled  lead_time  arrival_date_year arrival_date_month  \\\n",
       "hotel                                                                        \n",
       "Resort Hotel            0        342               2015               July   \n",
       "Resort Hotel            0        737               2015               July   \n",
       "Resort Hotel            0          7               2015               July   \n",
       "Resort Hotel            0         13               2015               July   \n",
       "Resort Hotel            0         14               2015               July   \n",
       "...                   ...        ...                ...                ...   \n",
       "City Hotel              0         23               2017             August   \n",
       "City Hotel              0        102               2017             August   \n",
       "City Hotel              0         34               2017             August   \n",
       "City Hotel              0        109               2017             August   \n",
       "City Hotel              0        205               2017             August   \n",
       "\n",
       "              arrival_date_week_number  arrival_date_day_of_month  \\\n",
       "hotel                                                               \n",
       "Resort Hotel                        27                          1   \n",
       "Resort Hotel                        27                          1   \n",
       "Resort Hotel                        27                          1   \n",
       "Resort Hotel                        27                          1   \n",
       "Resort Hotel                        27                          1   \n",
       "...                                ...                        ...   \n",
       "City Hotel                          35                         30   \n",
       "City Hotel                          35                         31   \n",
       "City Hotel                          35                         31   \n",
       "City Hotel                          35                         31   \n",
       "City Hotel                          35                         29   \n",
       "\n",
       "              stays_in_weekend_nights  stays_in_week_nights  adults  children  \\\n",
       "hotel                                                                           \n",
       "Resort Hotel                        0                     0       2       0.0   \n",
       "Resort Hotel                        0                     0       2       0.0   \n",
       "Resort Hotel                        0                     1       1       0.0   \n",
       "Resort Hotel                        0                     1       1       0.0   \n",
       "Resort Hotel                        0                     2       2       0.0   \n",
       "...                               ...                   ...     ...       ...   \n",
       "City Hotel                          2                     5       2       0.0   \n",
       "City Hotel                          2                     5       3       0.0   \n",
       "City Hotel                          2                     5       2       0.0   \n",
       "City Hotel                          2                     5       2       0.0   \n",
       "City Hotel                          2                     7       2       0.0   \n",
       "\n",
       "              babies meal country market_segment distribution_channel  \\\n",
       "hotel                                                                   \n",
       "Resort Hotel       0   BB     PRT         Direct               Direct   \n",
       "Resort Hotel       0   BB     PRT         Direct               Direct   \n",
       "Resort Hotel       0   BB     GBR         Direct               Direct   \n",
       "Resort Hotel       0   BB     GBR      Corporate            Corporate   \n",
       "Resort Hotel       0   BB     GBR      Online TA                TA/TO   \n",
       "...              ...  ...     ...            ...                  ...   \n",
       "City Hotel         0   BB     BEL  Offline TA/TO                TA/TO   \n",
       "City Hotel         0   BB     FRA      Online TA                TA/TO   \n",
       "City Hotel         0   BB     DEU      Online TA                TA/TO   \n",
       "City Hotel         0   BB     GBR      Online TA                TA/TO   \n",
       "City Hotel         0   HB     DEU      Online TA                TA/TO   \n",
       "\n",
       "              is_repeated_guest  previous_cancellations  \\\n",
       "hotel                                                     \n",
       "Resort Hotel                  0                       0   \n",
       "Resort Hotel                  0                       0   \n",
       "Resort Hotel                  0                       0   \n",
       "Resort Hotel                  0                       0   \n",
       "Resort Hotel                  0                       0   \n",
       "...                         ...                     ...   \n",
       "City Hotel                    0                       0   \n",
       "City Hotel                    0                       0   \n",
       "City Hotel                    0                       0   \n",
       "City Hotel                    0                       0   \n",
       "City Hotel                    0                       0   \n",
       "\n",
       "              previous_bookings_not_canceled reserved_room_type  \\\n",
       "hotel                                                             \n",
       "Resort Hotel                               0                  C   \n",
       "Resort Hotel                               0                  C   \n",
       "Resort Hotel                               0                  A   \n",
       "Resort Hotel                               0                  A   \n",
       "Resort Hotel                               0                  A   \n",
       "...                                      ...                ...   \n",
       "City Hotel                                 0                  A   \n",
       "City Hotel                                 0                  E   \n",
       "City Hotel                                 0                  D   \n",
       "City Hotel                                 0                  A   \n",
       "City Hotel                                 0                  A   \n",
       "\n",
       "             assigned_room_type  booking_changes deposit_type  agent  company  \\\n",
       "hotel                                                                           \n",
       "Resort Hotel                  C                3   No Deposit    NaN      NaN   \n",
       "Resort Hotel                  C                4   No Deposit    NaN      NaN   \n",
       "Resort Hotel                  C                0   No Deposit    NaN      NaN   \n",
       "Resort Hotel                  A                0   No Deposit  304.0      NaN   \n",
       "Resort Hotel                  A                0   No Deposit  240.0      NaN   \n",
       "...                         ...              ...          ...    ...      ...   \n",
       "City Hotel                    A                0   No Deposit  394.0      NaN   \n",
       "City Hotel                    E                0   No Deposit    9.0      NaN   \n",
       "City Hotel                    D                0   No Deposit    9.0      NaN   \n",
       "City Hotel                    A                0   No Deposit   89.0      NaN   \n",
       "City Hotel                    A                0   No Deposit    9.0      NaN   \n",
       "\n",
       "              days_in_waiting_list customer_type     adr  \\\n",
       "hotel                                                      \n",
       "Resort Hotel                     0     Transient    0.00   \n",
       "Resort Hotel                     0     Transient    0.00   \n",
       "Resort Hotel                     0     Transient   75.00   \n",
       "Resort Hotel                     0     Transient   75.00   \n",
       "Resort Hotel                     0     Transient   98.00   \n",
       "...                            ...           ...     ...   \n",
       "City Hotel                       0     Transient   96.14   \n",
       "City Hotel                       0     Transient  225.43   \n",
       "City Hotel                       0     Transient  157.71   \n",
       "City Hotel                       0     Transient  104.40   \n",
       "City Hotel                       0     Transient  151.20   \n",
       "\n",
       "              required_car_parking_spaces  total_of_special_requests  \\\n",
       "hotel                                                                  \n",
       "Resort Hotel                            0                          0   \n",
       "Resort Hotel                            0                          0   \n",
       "Resort Hotel                            0                          0   \n",
       "Resort Hotel                            0                          0   \n",
       "Resort Hotel                            0                          1   \n",
       "...                                   ...                        ...   \n",
       "City Hotel                              0                          0   \n",
       "City Hotel                              0                          2   \n",
       "City Hotel                              0                          4   \n",
       "City Hotel                              0                          0   \n",
       "City Hotel                              0                          2   \n",
       "\n",
       "             reservation_status reservation_status_date  \n",
       "hotel                                                    \n",
       "Resort Hotel          Check-Out              2015-07-01  \n",
       "Resort Hotel          Check-Out              2015-07-01  \n",
       "Resort Hotel          Check-Out              2015-07-02  \n",
       "Resort Hotel          Check-Out              2015-07-02  \n",
       "Resort Hotel          Check-Out              2015-07-03  \n",
       "...                         ...                     ...  \n",
       "City Hotel            Check-Out              2017-09-06  \n",
       "City Hotel            Check-Out              2017-09-07  \n",
       "City Hotel            Check-Out              2017-09-07  \n",
       "City Hotel            Check-Out              2017-09-07  \n",
       "City Hotel            Check-Out              2017-09-07  \n",
       "\n",
       "[119390 rows x 31 columns]"
      ]
     },
     "execution_count": 77,
     "metadata": {},
     "output_type": "execute_result"
    }
   ],
   "source": [
    "# показать все столбцы\n",
    "pd.options.display.max_columns = None\n",
    "\n",
    "# загрузить датасет в pandas dataframe\n",
    "df = pd.read_csv('hotel_bookings.csv', index_col=0)\n",
    "\n",
    "# вывести первые 5 и последние 5 строк\n",
    "df"
   ]
  },
  {
   "cell_type": "code",
   "execution_count": 78,
   "metadata": {},
   "outputs": [
    {
     "name": "stdout",
     "output_type": "stream",
     "text": [
      "<class 'pandas.core.frame.DataFrame'>\n",
      "Index: 119390 entries, Resort Hotel to City Hotel\n",
      "Data columns (total 31 columns):\n",
      " #   Column                          Non-Null Count   Dtype  \n",
      "---  ------                          --------------   -----  \n",
      " 0   is_canceled                     119390 non-null  int64  \n",
      " 1   lead_time                       119390 non-null  int64  \n",
      " 2   arrival_date_year               119390 non-null  int64  \n",
      " 3   arrival_date_month              119390 non-null  object \n",
      " 4   arrival_date_week_number        119390 non-null  int64  \n",
      " 5   arrival_date_day_of_month       119390 non-null  int64  \n",
      " 6   stays_in_weekend_nights         119390 non-null  int64  \n",
      " 7   stays_in_week_nights            119390 non-null  int64  \n",
      " 8   adults                          119390 non-null  int64  \n",
      " 9   children                        119386 non-null  float64\n",
      " 10  babies                          119390 non-null  int64  \n",
      " 11  meal                            119390 non-null  object \n",
      " 12  country                         118902 non-null  object \n",
      " 13  market_segment                  119390 non-null  object \n",
      " 14  distribution_channel            119390 non-null  object \n",
      " 15  is_repeated_guest               119390 non-null  int64  \n",
      " 16  previous_cancellations          119390 non-null  int64  \n",
      " 17  previous_bookings_not_canceled  119390 non-null  int64  \n",
      " 18  reserved_room_type              119390 non-null  object \n",
      " 19  assigned_room_type              119390 non-null  object \n",
      " 20  booking_changes                 119390 non-null  int64  \n",
      " 21  deposit_type                    119390 non-null  object \n",
      " 22  agent                           103050 non-null  float64\n",
      " 23  company                         6797 non-null    float64\n",
      " 24  days_in_waiting_list            119390 non-null  int64  \n",
      " 25  customer_type                   119390 non-null  object \n",
      " 26  adr                             119390 non-null  float64\n",
      " 27  required_car_parking_spaces     119390 non-null  int64  \n",
      " 28  total_of_special_requests       119390 non-null  int64  \n",
      " 29  reservation_status              119390 non-null  object \n",
      " 30  reservation_status_date         119390 non-null  object \n",
      "dtypes: float64(4), int64(16), object(11)\n",
      "memory usage: 29.1+ MB\n"
     ]
    }
   ],
   "source": [
    "# получить данные о датафрейме: список колонок, сколько ненулевых, типы колонок...\n",
    "df.info()"
   ]
  },
  {
   "cell_type": "markdown",
   "metadata": {},
   "source": [
    "### Категориальные данные"
   ]
  },
  {
   "cell_type": "code",
   "execution_count": 79,
   "metadata": {},
   "outputs": [
    {
     "data": {
      "text/plain": [
       "955120"
      ]
     },
     "execution_count": 79,
     "metadata": {},
     "output_type": "execute_result"
    }
   ],
   "source": [
    "# сколько байт занимает столбец meal (до преобразования)\n",
    "df.meal.nbytes"
   ]
  },
  {
   "cell_type": "code",
   "execution_count": 80,
   "metadata": {
    "pycharm": {
     "name": "#%%\n"
    }
   },
   "outputs": [
    {
     "data": {
      "text/plain": [
       "hotel\n",
       "Resort Hotel    BB\n",
       "Resort Hotel    BB\n",
       "Resort Hotel    BB\n",
       "Resort Hotel    BB\n",
       "Resort Hotel    BB\n",
       "                ..\n",
       "City Hotel      BB\n",
       "City Hotel      BB\n",
       "City Hotel      BB\n",
       "City Hotel      BB\n",
       "City Hotel      HB\n",
       "Name: meal, Length: 119390, dtype: category\n",
       "Categories (5, object): ['BB', 'FB', 'HB', 'SC', 'Undefined']"
      ]
     },
     "execution_count": 80,
     "metadata": {},
     "output_type": "execute_result"
    }
   ],
   "source": [
    "# преобразовать тип столбца meal в category\n",
    "df['meal'] = df['meal'].astype('category')\n",
    "                  \n",
    "# вывести значения столбца meal\n",
    "df['meal']"
   ]
  },
  {
   "cell_type": "code",
   "execution_count": 81,
   "metadata": {},
   "outputs": [
    {
     "data": {
      "text/plain": [
       "['BB', 'FB', 'HB', 'SC', 'Undefined']"
      ]
     },
     "execution_count": 81,
     "metadata": {},
     "output_type": "execute_result"
    }
   ],
   "source": [
    "# вывести все уникальные значения колнки meal (тип list)\n",
    "df.meal.unique().tolist()"
   ]
  },
  {
   "cell_type": "code",
   "execution_count": 82,
   "metadata": {},
   "outputs": [
    {
     "data": {
      "text/plain": [
       "hotel\n",
       "Resort Hotel    BB\n",
       "Resort Hotel    BB\n",
       "Resort Hotel    BB\n",
       "Resort Hotel    BB\n",
       "Resort Hotel    BB\n",
       "                ..\n",
       "City Hotel      BB\n",
       "City Hotel      BB\n",
       "City Hotel      BB\n",
       "City Hotel      BB\n",
       "City Hotel      HB\n",
       "Name: meal, Length: 119390, dtype: category\n",
       "Categories (5, object): ['Undefined' < 'SC' < 'BB' < 'HB' < 'FB']"
      ]
     },
     "execution_count": 82,
     "metadata": {},
     "output_type": "execute_result"
    }
   ],
   "source": [
    "# установить порядок для категорий meal\n",
    "# (['Undefined', 'SC', 'BB', 'HB', 'FB'])\n",
    "\n",
    "df.meal.cat.set_categories(['Undefined', 'SC', 'BB', 'HB', 'FB'], ordered=True)\n"
   ]
  },
  {
   "cell_type": "code",
   "execution_count": 83,
   "metadata": {},
   "outputs": [
    {
     "data": {
      "text/plain": [
       "119430"
      ]
     },
     "execution_count": 83,
     "metadata": {},
     "output_type": "execute_result"
    }
   ],
   "source": [
    "# сколько байт занимает столбец meal (после преобразования)\n",
    "df.meal.nbytes"
   ]
  },
  {
   "cell_type": "markdown",
   "metadata": {},
   "source": [
    "### Разреженные структуры данных"
   ]
  },
  {
   "cell_type": "code",
   "execution_count": 84,
   "metadata": {},
   "outputs": [
    {
     "data": {
      "text/plain": [
       "955120"
      ]
     },
     "execution_count": 84,
     "metadata": {},
     "output_type": "execute_result"
    }
   ],
   "source": [
    "# сколько байт занимает столбец company (до преобразования)\n",
    "df.company.nbytes"
   ]
  },
  {
   "cell_type": "code",
   "execution_count": 87,
   "metadata": {},
   "outputs": [
    {
     "data": {
      "text/plain": [
       "hotel\n",
       "Resort Hotel   NaN\n",
       "Resort Hotel   NaN\n",
       "Resort Hotel   NaN\n",
       "Resort Hotel   NaN\n",
       "Resort Hotel   NaN\n",
       "                ..\n",
       "City Hotel     NaN\n",
       "City Hotel     NaN\n",
       "City Hotel     NaN\n",
       "City Hotel     NaN\n",
       "City Hotel     NaN\n",
       "Name: company, Length: 119390, dtype: Sparse[float64, nan]"
      ]
     },
     "execution_count": 87,
     "metadata": {},
     "output_type": "execute_result"
    }
   ],
   "source": [
    "# преобразовать тип столбца company в SparseArray\n",
    "df.company = df.company.astype('Sparse') \n",
    "# вывести значения столбца meal\n",
    "df.company"
   ]
  },
  {
   "cell_type": "code",
   "execution_count": 91,
   "metadata": {},
   "outputs": [
    {
     "data": {
      "text/plain": [
       "81564"
      ]
     },
     "execution_count": 91,
     "metadata": {},
     "output_type": "execute_result"
    }
   ],
   "source": [
    "# сколько байт занимает столбец company (после преобразования)\n",
    "df.company.nbytes"
   ]
  },
  {
   "cell_type": "code",
   "execution_count": 93,
   "metadata": {},
   "outputs": [
    {
     "data": {
      "text/plain": [
       "hotel\n",
       "Resort Hotel   NaN\n",
       "Resort Hotel   NaN\n",
       "Resort Hotel   NaN\n",
       "Resort Hotel   NaN\n",
       "Resort Hotel   NaN\n",
       "                ..\n",
       "City Hotel     NaN\n",
       "City Hotel     NaN\n",
       "City Hotel     NaN\n",
       "City Hotel     NaN\n",
       "City Hotel     NaN\n",
       "Name: company, Length: 119390, dtype: Sparse[float64, nan]"
      ]
     },
     "metadata": {},
     "output_type": "display_data"
    },
    {
     "name": "stdout",
     "output_type": "stream",
     "text": [
      "\n",
      "sdf.dtypes = Sparse[float64, nan]\n",
      "\n",
      "sdf.sparse.density = 0.056931066253455065\n"
     ]
    }
   ],
   "source": [
    "# плотность (% значений, которые не были \"сжаты\") для столбца company\n",
    "sdf = df.company.astype(pd.SparseDtype(\"float\", np.nan))\n",
    "display(sdf)\n",
    "\n",
    "print(\"\\nsdf.dtypes =\", sdf.dtypes)\n",
    "\n",
    "# плотность (% значений, которые не были \"сжаты\")\n",
    "print(\"\\nsdf.sparse.density =\", sdf.sparse.density)"
   ]
  },
  {
   "cell_type": "code",
   "execution_count": 94,
   "metadata": {},
   "outputs": [
    {
     "name": "stdout",
     "output_type": "stream",
     "text": [
      "<class 'pandas.core.frame.DataFrame'>\n",
      "Index: 119390 entries, Resort Hotel to City Hotel\n",
      "Data columns (total 31 columns):\n",
      " #   Column                          Non-Null Count   Dtype               \n",
      "---  ------                          --------------   -----               \n",
      " 0   is_canceled                     119390 non-null  int64               \n",
      " 1   lead_time                       119390 non-null  int64               \n",
      " 2   arrival_date_year               119390 non-null  int64               \n",
      " 3   arrival_date_month              119390 non-null  object              \n",
      " 4   arrival_date_week_number        119390 non-null  int64               \n",
      " 5   arrival_date_day_of_month       119390 non-null  int64               \n",
      " 6   stays_in_weekend_nights         119390 non-null  int64               \n",
      " 7   stays_in_week_nights            119390 non-null  int64               \n",
      " 8   adults                          119390 non-null  int64               \n",
      " 9   children                        119386 non-null  float64             \n",
      " 10  babies                          119390 non-null  int64               \n",
      " 11  meal                            119390 non-null  category            \n",
      " 12  country                         118902 non-null  object              \n",
      " 13  market_segment                  119390 non-null  object              \n",
      " 14  distribution_channel            119390 non-null  object              \n",
      " 15  is_repeated_guest               119390 non-null  int64               \n",
      " 16  previous_cancellations          119390 non-null  int64               \n",
      " 17  previous_bookings_not_canceled  119390 non-null  int64               \n",
      " 18  reserved_room_type              119390 non-null  object              \n",
      " 19  assigned_room_type              119390 non-null  object              \n",
      " 20  booking_changes                 119390 non-null  int64               \n",
      " 21  deposit_type                    119390 non-null  object              \n",
      " 22  agent                           103050 non-null  float64             \n",
      " 23  company                         6797 non-null    Sparse[float64, nan]\n",
      " 24  days_in_waiting_list            119390 non-null  int64               \n",
      " 25  customer_type                   119390 non-null  object              \n",
      " 26  adr                             119390 non-null  float64             \n",
      " 27  required_car_parking_spaces     119390 non-null  int64               \n",
      " 28  total_of_special_requests       119390 non-null  int64               \n",
      " 29  reservation_status              119390 non-null  object              \n",
      " 30  reservation_status_date         119390 non-null  object              \n",
      "dtypes: Sparse[float64, nan](1), category(1), float64(3), int64(16), object(10)\n",
      "memory usage: 30.0+ MB\n"
     ]
    }
   ],
   "source": [
    "# получить данные о датафрейме (проверить, что тип колонок изменился)\n",
    "df.info()"
   ]
  },
  {
   "cell_type": "markdown",
   "metadata": {},
   "source": [
    "### Интервальный индекс"
   ]
  },
  {
   "cell_type": "code",
   "execution_count": 95,
   "metadata": {},
   "outputs": [
    {
     "data": {
      "text/plain": [
       "<bound method Series.unique of hotel\n",
       "Resort Hotel    342\n",
       "Resort Hotel    737\n",
       "Resort Hotel      7\n",
       "Resort Hotel     13\n",
       "Resort Hotel     14\n",
       "               ... \n",
       "City Hotel       23\n",
       "City Hotel      102\n",
       "City Hotel       34\n",
       "City Hotel      109\n",
       "City Hotel      205\n",
       "Name: lead_time, Length: 119390, dtype: int64>"
      ]
     },
     "execution_count": 95,
     "metadata": {},
     "output_type": "execute_result"
    }
   ],
   "source": [
    "# вывести все уникальные значения столбца lead_time\n",
    "df.lead_time.unique                     "
   ]
  },
  {
   "cell_type": "code",
   "execution_count": 97,
   "metadata": {},
   "outputs": [
    {
     "data": {
      "text/plain": [
       "0"
      ]
     },
     "execution_count": 97,
     "metadata": {},
     "output_type": "execute_result"
    }
   ],
   "source": [
    "# вывести минимальное значение столбца lead_time\n",
    "df.lead_time.min()"
   ]
  },
  {
   "cell_type": "code",
   "execution_count": 98,
   "metadata": {},
   "outputs": [
    {
     "data": {
      "text/plain": [
       "737"
      ]
     },
     "execution_count": 98,
     "metadata": {},
     "output_type": "execute_result"
    }
   ],
   "source": [
    "# вывести максимальное значение столбца lead_time\n",
    "df.lead_time.max()"
   ]
  },
  {
   "cell_type": "code",
   "execution_count": 114,
   "metadata": {},
   "outputs": [
    {
     "data": {
      "text/plain": [
       "hotel\n",
       "Resort Hotel    (160.0, 737.0]\n",
       "Resort Hotel    (160.0, 737.0]\n",
       "Resort Hotel    (-0.001, 18.0]\n",
       "Resort Hotel    (-0.001, 18.0]\n",
       "Resort Hotel    (-0.001, 18.0]\n",
       "                     ...      \n",
       "City Hotel        (18.0, 69.0]\n",
       "City Hotel       (69.0, 160.0]\n",
       "City Hotel        (18.0, 69.0]\n",
       "City Hotel       (69.0, 160.0]\n",
       "City Hotel      (160.0, 737.0]\n",
       "Name: lead_time, Length: 119390, dtype: category\n",
       "Categories (4, interval[float64]): [(-0.001, 18.0] < (18.0, 69.0] < (69.0, 160.0] < (160.0, 737.0]]"
      ]
     },
     "execution_count": 114,
     "metadata": {},
     "output_type": "execute_result"
    }
   ],
   "source": [
    "# используя функцию qcut разбить значения в стобце lead_time на 4 квантили\n",
    "c = pd.qcut(df.lead_time, q=4)\n",
    "# вывести результат\n",
    "c"
   ]
  },
  {
   "cell_type": "code",
   "execution_count": 113,
   "metadata": {},
   "outputs": [
    {
     "data": {
      "text/plain": [
       "pandas.core.series.Series"
      ]
     },
     "execution_count": 113,
     "metadata": {},
     "output_type": "execute_result"
    }
   ],
   "source": [
    "# получить тип результата функции qcut\n",
    "type(c)"
   ]
  },
  {
   "cell_type": "code",
   "execution_count": 101,
   "metadata": {},
   "outputs": [
    {
     "ename": "AttributeError",
     "evalue": "'Series' object has no attribute 'categories'",
     "output_type": "error",
     "traceback": [
      "\u001b[1;31m---------------------------------------------------------------------------\u001b[0m",
      "\u001b[1;31mAttributeError\u001b[0m                            Traceback (most recent call last)",
      "\u001b[1;32m<ipython-input-101-b5fc56c12c5e>\u001b[0m in \u001b[0;36m<module>\u001b[1;34m\u001b[0m\n\u001b[0;32m      1\u001b[0m \u001b[1;31m# получить список категории\u001b[0m\u001b[1;33m\u001b[0m\u001b[1;33m\u001b[0m\u001b[1;33m\u001b[0m\u001b[0m\n\u001b[1;32m----> 2\u001b[1;33m \u001b[0mc\u001b[0m\u001b[1;33m.\u001b[0m\u001b[0mcategories\u001b[0m\u001b[1;33m\u001b[0m\u001b[1;33m\u001b[0m\u001b[0m\n\u001b[0m",
      "\u001b[1;32mG:\\ProgramData\\Anaconda3\\lib\\site-packages\\pandas\\core\\generic.py\u001b[0m in \u001b[0;36m__getattr__\u001b[1;34m(self, name)\u001b[0m\n\u001b[0;32m   5137\u001b[0m             \u001b[1;32mif\u001b[0m \u001b[0mself\u001b[0m\u001b[1;33m.\u001b[0m\u001b[0m_info_axis\u001b[0m\u001b[1;33m.\u001b[0m\u001b[0m_can_hold_identifiers_and_holds_name\u001b[0m\u001b[1;33m(\u001b[0m\u001b[0mname\u001b[0m\u001b[1;33m)\u001b[0m\u001b[1;33m:\u001b[0m\u001b[1;33m\u001b[0m\u001b[1;33m\u001b[0m\u001b[0m\n\u001b[0;32m   5138\u001b[0m                 \u001b[1;32mreturn\u001b[0m \u001b[0mself\u001b[0m\u001b[1;33m[\u001b[0m\u001b[0mname\u001b[0m\u001b[1;33m]\u001b[0m\u001b[1;33m\u001b[0m\u001b[1;33m\u001b[0m\u001b[0m\n\u001b[1;32m-> 5139\u001b[1;33m             \u001b[1;32mreturn\u001b[0m \u001b[0mobject\u001b[0m\u001b[1;33m.\u001b[0m\u001b[0m__getattribute__\u001b[0m\u001b[1;33m(\u001b[0m\u001b[0mself\u001b[0m\u001b[1;33m,\u001b[0m \u001b[0mname\u001b[0m\u001b[1;33m)\u001b[0m\u001b[1;33m\u001b[0m\u001b[1;33m\u001b[0m\u001b[0m\n\u001b[0m\u001b[0;32m   5140\u001b[0m \u001b[1;33m\u001b[0m\u001b[0m\n\u001b[0;32m   5141\u001b[0m     \u001b[1;32mdef\u001b[0m \u001b[0m__setattr__\u001b[0m\u001b[1;33m(\u001b[0m\u001b[0mself\u001b[0m\u001b[1;33m,\u001b[0m \u001b[0mname\u001b[0m\u001b[1;33m:\u001b[0m \u001b[0mstr\u001b[0m\u001b[1;33m,\u001b[0m \u001b[0mvalue\u001b[0m\u001b[1;33m)\u001b[0m \u001b[1;33m->\u001b[0m \u001b[1;32mNone\u001b[0m\u001b[1;33m:\u001b[0m\u001b[1;33m\u001b[0m\u001b[1;33m\u001b[0m\u001b[0m\n",
      "\u001b[1;31mAttributeError\u001b[0m: 'Series' object has no attribute 'categories'"
     ]
    }
   ],
   "source": [
    "# получить список категории\n",
    "c.categories"
   ]
  },
  {
   "cell_type": "code",
   "execution_count": 115,
   "metadata": {},
   "outputs": [
    {
     "data": {
      "text/plain": [
       "(-0.001, 18.0]    30260\n",
       "(160.0, 737.0]    29822\n",
       "(69.0, 160.0]     29669\n",
       "(18.0, 69.0]      29639\n",
       "Name: lead_time, dtype: int64"
      ]
     },
     "execution_count": 115,
     "metadata": {},
     "output_type": "execute_result"
    }
   ],
   "source": [
    "# число вхождений в каждый бин (интевал)\n",
    "pd.value_counts(c)"
   ]
  },
  {
   "cell_type": "markdown",
   "metadata": {},
   "source": [
    "### Обработка часовых поясов"
   ]
  },
  {
   "cell_type": "code",
   "execution_count": 116,
   "metadata": {},
   "outputs": [
    {
     "data": {
      "text/plain": [
       "hotel\n",
       "Resort Hotel    2015-07-01\n",
       "Resort Hotel    2015-07-01\n",
       "Resort Hotel    2015-07-02\n",
       "Resort Hotel    2015-07-02\n",
       "Resort Hotel    2015-07-03\n",
       "                   ...    \n",
       "City Hotel      2017-09-06\n",
       "City Hotel      2017-09-07\n",
       "City Hotel      2017-09-07\n",
       "City Hotel      2017-09-07\n",
       "City Hotel      2017-09-07\n",
       "Name: reservation_status_date, Length: 119390, dtype: object"
      ]
     },
     "execution_count": 116,
     "metadata": {},
     "output_type": "execute_result"
    }
   ],
   "source": [
    "# вывести значения столбца reservation_status_date\n",
    "# обратить внимание на dtype\n",
    "df.reservation_status_date"
   ]
  },
  {
   "cell_type": "code",
   "execution_count": 117,
   "metadata": {},
   "outputs": [],
   "source": [
    "# конвертировать тип столбца reservation_status_date (object -> datetime64)\n",
    "df.reservation_status_date = df.reservation_status_date.astype('datetime64') "
   ]
  },
  {
   "cell_type": "code",
   "execution_count": 118,
   "metadata": {},
   "outputs": [
    {
     "data": {
      "text/plain": [
       "hotel\n",
       "Resort Hotel   2015-07-01\n",
       "Resort Hotel   2015-07-01\n",
       "Resort Hotel   2015-07-02\n",
       "Resort Hotel   2015-07-02\n",
       "Resort Hotel   2015-07-03\n",
       "                  ...    \n",
       "City Hotel     2017-09-06\n",
       "City Hotel     2017-09-07\n",
       "City Hotel     2017-09-07\n",
       "City Hotel     2017-09-07\n",
       "City Hotel     2017-09-07\n",
       "Name: reservation_status_date, Length: 119390, dtype: datetime64[ns]"
      ]
     },
     "execution_count": 118,
     "metadata": {},
     "output_type": "execute_result"
    }
   ],
   "source": [
    "# вывести значения столбца reservation_status_date\n",
    "# обратить внимание на dtype\n",
    "df.reservation_status_date"
   ]
  },
  {
   "cell_type": "code",
   "execution_count": 119,
   "metadata": {},
   "outputs": [
    {
     "data": {
      "text/plain": [
       "hotel\n",
       "Resort Hotel   2015-07-01 00:00:00+00:00\n",
       "Resort Hotel   2015-07-01 00:00:00+00:00\n",
       "Resort Hotel   2015-07-02 00:00:00+00:00\n",
       "Resort Hotel   2015-07-02 00:00:00+00:00\n",
       "Resort Hotel   2015-07-03 00:00:00+00:00\n",
       "                          ...           \n",
       "City Hotel     2017-09-06 00:00:00+00:00\n",
       "City Hotel     2017-09-07 00:00:00+00:00\n",
       "City Hotel     2017-09-07 00:00:00+00:00\n",
       "City Hotel     2017-09-07 00:00:00+00:00\n",
       "City Hotel     2017-09-07 00:00:00+00:00\n",
       "Name: reservation_status_date, Length: 119390, dtype: datetime64[ns, UTC]"
      ]
     },
     "execution_count": 119,
     "metadata": {},
     "output_type": "execute_result"
    }
   ],
   "source": [
    "# установить стандарт UTC для столбца reservation_status_date\n",
    "# обратить внимание на dtype\n",
    "df.reservation_status_date = df.reservation_status_date.dt.tz_localize(\"UTC\")\n",
    "# отобразить столбец reservation_status_date\n",
    "df.reservation_status_date"
   ]
  },
  {
   "cell_type": "code",
   "execution_count": 122,
   "metadata": {},
   "outputs": [
    {
     "data": {
      "text/plain": [
       "hotel\n",
       "Resort Hotel   2015-07-01 00:00:00+00:00\n",
       "Resort Hotel   2015-07-01 00:00:00+00:00\n",
       "Resort Hotel   2015-07-02 00:00:00+00:00\n",
       "Resort Hotel   2015-07-02 00:00:00+00:00\n",
       "Resort Hotel   2015-07-03 00:00:00+00:00\n",
       "                          ...           \n",
       "City Hotel     2017-09-06 00:00:00+00:00\n",
       "City Hotel     2017-09-07 00:00:00+00:00\n",
       "City Hotel     2017-09-07 00:00:00+00:00\n",
       "City Hotel     2017-09-07 00:00:00+00:00\n",
       "City Hotel     2017-09-07 00:00:00+00:00\n",
       "Name: reservation_status_date, Length: 119390, dtype: datetime64[ns, Africa/Lome]"
      ]
     },
     "execution_count": 122,
     "metadata": {},
     "output_type": "execute_result"
    }
   ],
   "source": [
    "# изменить часовой пояс столбца reservation_status_date на \"Africa/Lome\"\n",
    "# обратить внимание на dtype\n",
    "df.reservation_status_date = df.reservation_status_date.dt.tz_convert(\"Africa/Lome\")\n",
    "# отобразить столбец reservation_status_date\n",
    "df.reservation_status_date"
   ]
  },
  {
   "cell_type": "code",
   "execution_count": 123,
   "metadata": {},
   "outputs": [
    {
     "data": {
      "text/plain": [
       "hotel\n",
       "Resort Hotel   2015-07-31 05:00:00+00:00\n",
       "Resort Hotel   2015-07-31 05:00:00+00:00\n",
       "Resort Hotel   2015-08-01 05:00:00+00:00\n",
       "Resort Hotel   2015-08-01 05:00:00+00:00\n",
       "Resort Hotel   2015-08-02 05:00:00+00:00\n",
       "                          ...           \n",
       "City Hotel     2017-10-06 05:00:00+00:00\n",
       "City Hotel     2017-10-07 05:00:00+00:00\n",
       "City Hotel     2017-10-07 05:00:00+00:00\n",
       "City Hotel     2017-10-07 05:00:00+00:00\n",
       "City Hotel     2017-10-07 05:00:00+00:00\n",
       "Name: reservation_status_date, Length: 119390, dtype: datetime64[ns, Africa/Lome]"
      ]
     },
     "execution_count": 123,
     "metadata": {},
     "output_type": "execute_result"
    }
   ],
   "source": [
    "# добавить к каждой дате столбца reservation_status_date 30 дней и 5 часов\n",
    "df.reservation_status_date = df.reservation_status_date + pd.Timedelta(\"30 day 5 hours\")\n",
    "df.reservation_status_date"
   ]
  },
  {
   "cell_type": "markdown",
   "metadata": {},
   "source": [
    "### Представление промежутка времени"
   ]
  },
  {
   "cell_type": "code",
   "execution_count": 125,
   "metadata": {},
   "outputs": [
    {
     "data": {
      "text/plain": [
       "hotel\n",
       "Resort Hotel    2015-07-31 05:00\n",
       "Resort Hotel    2015-07-31 05:00\n",
       "Resort Hotel    2015-08-01 05:00\n",
       "Resort Hotel    2015-08-01 05:00\n",
       "Resort Hotel    2015-08-02 05:00\n",
       "                      ...       \n",
       "City Hotel      2017-10-06 05:00\n",
       "City Hotel      2017-10-07 05:00\n",
       "City Hotel      2017-10-07 05:00\n",
       "City Hotel      2017-10-07 05:00\n",
       "City Hotel      2017-10-07 05:00\n",
       "Name: reservation_status_date_period, Length: 119390, dtype: period[T]"
      ]
     },
     "execution_count": 125,
     "metadata": {},
     "output_type": "execute_result"
    }
   ],
   "source": [
    "# добавить столбец reservation_status_date_period datetime64 -> period[min]\n",
    "# UserWarning: Converting to PeriodArray/Index representation will drop timezone information. - это норма :)\n",
    "df['reservation_status_date_period'] = df.reservation_status_date .dt.to_period(\"min\")\n",
    "# отобразить столбец reservation_status_date_period\n",
    "df.reservation_status_date_period"
   ]
  },
  {
   "cell_type": "code",
   "execution_count": 126,
   "metadata": {},
   "outputs": [
    {
     "data": {
      "text/plain": [
       "hotel\n",
       "Resort Hotel    2015-07-31 09:00\n",
       "Resort Hotel    2015-07-31 09:00\n",
       "Resort Hotel    2015-08-01 09:00\n",
       "Resort Hotel    2015-08-01 09:00\n",
       "Resort Hotel    2015-08-02 09:00\n",
       "                      ...       \n",
       "City Hotel      2017-10-06 09:00\n",
       "City Hotel      2017-10-07 09:00\n",
       "City Hotel      2017-10-07 09:00\n",
       "City Hotel      2017-10-07 09:00\n",
       "City Hotel      2017-10-07 09:00\n",
       "Name: reservation_status_date_period, Length: 119390, dtype: period[T]"
      ]
     },
     "execution_count": 126,
     "metadata": {},
     "output_type": "execute_result"
    }
   ],
   "source": [
    "# обавить 4 часа к каждому элементу столбца reservation_status_date_period\n",
    "df.reservation_status_date_period = df.reservation_status_date_period + pd.Timedelta(\"4 hours\")\n",
    "# отобразить столбец reservation_status_date_period\n",
    "df.reservation_status_date_period"
   ]
  },
  {
   "cell_type": "code",
   "execution_count": 127,
   "metadata": {},
   "outputs": [
    {
     "data": {
      "text/plain": [
       "hotel\n",
       "Resort Hotel    2015-07-31 09:55\n",
       "Resort Hotel    2015-07-31 09:55\n",
       "Resort Hotel    2015-08-01 09:55\n",
       "Resort Hotel    2015-08-01 09:55\n",
       "Resort Hotel    2015-08-02 09:55\n",
       "                      ...       \n",
       "City Hotel      2017-10-06 09:55\n",
       "City Hotel      2017-10-07 09:55\n",
       "City Hotel      2017-10-07 09:55\n",
       "City Hotel      2017-10-07 09:55\n",
       "City Hotel      2017-10-07 09:55\n",
       "Name: reservation_status_date_period, Length: 119390, dtype: period[T]"
      ]
     },
     "execution_count": 127,
     "metadata": {},
     "output_type": "execute_result"
    }
   ],
   "source": [
    "# обавить timedelta равную 55 минут к каждому элементу столбца reservation_status_date_period\n",
    "df.reservation_status_date_period = df.reservation_status_date_period + pd.Timedelta(\"55 minutes\")\n",
    "# отобразить столбец reservation_status_date_period\n",
    "df.reservation_status_date_period "
   ]
  },
  {
   "cell_type": "code",
   "execution_count": null,
   "metadata": {},
   "outputs": [],
   "source": []
  }
 ],
 "metadata": {
  "kernelspec": {
   "display_name": "Python 3",
   "language": "python",
   "name": "python3"
  },
  "language_info": {
   "codemirror_mode": {
    "name": "ipython",
    "version": 3
   },
   "file_extension": ".py",
   "mimetype": "text/x-python",
   "name": "python",
   "nbconvert_exporter": "python",
   "pygments_lexer": "ipython3",
   "version": "3.8.5"
  },
  "toc-autonumbering": true,
  "toc-showmarkdowntxt": false
 },
 "nbformat": 4,
 "nbformat_minor": 4
}
