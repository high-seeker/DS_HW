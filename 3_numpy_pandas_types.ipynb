{
 "cells": [
  {
   "cell_type": "markdown",
   "metadata": {
    "pycharm": {
     "name": "#%% md\n"
    }
   },
   "source": [
    "# Домашнее задание по теме: пакеты `pandas` и `numpy` (типы данных)"
   ]
  },
  {
   "cell_type": "markdown",
   "metadata": {},
   "source": [
    "## Подготовка окружения"
   ]
  },
  {
   "cell_type": "code",
   "execution_count": 1,
   "metadata": {
    "collapsed": false,
    "jupyter": {
     "outputs_hidden": false
    },
    "pycharm": {
     "name": "#%%\n"
    }
   },
   "outputs": [
    {
     "name": "stdout",
     "output_type": "stream",
     "text": [
      "pip 20.3.3 from C:\\Users\\skovalchuk\\.conda\\envs\\levelup_ds\\lib\\site-packages\\pip (python 3.8)\n",
      "\n"
     ]
    }
   ],
   "source": [
    "# ВНИМАНИЕ: необходимо удостовериться, что виртуальная среда выбрана правильно!\n",
    "\n",
    "!pip -V"
   ]
  },
  {
   "cell_type": "code",
   "execution_count": 2,
   "metadata": {
    "collapsed": false,
    "jupyter": {
     "outputs_hidden": false
    },
    "pycharm": {
     "name": "#%%\n"
    }
   },
   "outputs": [],
   "source": [
    "# !conda install pandas numpy -y"
   ]
  },
  {
   "cell_type": "code",
   "execution_count": 3,
   "metadata": {},
   "outputs": [],
   "source": [
    "import datetime"
   ]
  },
  {
   "cell_type": "code",
   "execution_count": 4,
   "metadata": {
    "collapsed": false,
    "jupyter": {
     "outputs_hidden": false
    },
    "pycharm": {
     "name": "#%%\n"
    }
   },
   "outputs": [
    {
     "data": {
      "text/plain": [
       "'1.19.2'"
      ]
     },
     "execution_count": 4,
     "metadata": {},
     "output_type": "execute_result"
    }
   ],
   "source": [
    "import numpy as np\n",
    "\n",
    "np.__version__"
   ]
  },
  {
   "cell_type": "code",
   "execution_count": 5,
   "metadata": {
    "collapsed": false,
    "jupyter": {
     "outputs_hidden": false
    },
    "pycharm": {
     "name": "#%%\n"
    }
   },
   "outputs": [
    {
     "data": {
      "text/plain": [
       "'1.2.3'"
      ]
     },
     "execution_count": 5,
     "metadata": {},
     "output_type": "execute_result"
    }
   ],
   "source": [
    "import pandas as pd\n",
    "\n",
    "pd.__version__"
   ]
  },
  {
   "cell_type": "markdown",
   "metadata": {},
   "source": [
    "## Пакет `numpy`: типы данных"
   ]
  },
  {
   "cell_type": "markdown",
   "metadata": {},
   "source": [
    "**Задача:**\n",
    "- Преобразовать тип переменной `val` в другие типы (как указано в комментарии).\n",
    "- Вывести результат преобразования.\n",
    "- *Если результат преобразования непонятен, то разобраться самостоятельно (можно написать свои рассуждения в комментариях и преподаватель ответит при проверке) или попросить помощи у преподавателя.\n",
    "\n",
    "**Пример:**"
   ]
  },
  {
   "cell_type": "code",
   "execution_count": 6,
   "metadata": {},
   "outputs": [
    {
     "name": "stdout",
     "output_type": "stream",
     "text": [
      "type: <class 'int'>\n",
      "value: -1\n"
     ]
    }
   ],
   "source": [
    "val = -1\n",
    "\n",
    "print(f\"type: {type(val)}\\nvalue: {val}\")"
   ]
  },
  {
   "cell_type": "code",
   "execution_count": 7,
   "metadata": {},
   "outputs": [
    {
     "data": {
      "text/plain": [
       "18446744073709551615"
      ]
     },
     "execution_count": 7,
     "metadata": {},
     "output_type": "execute_result"
    }
   ],
   "source": [
    "# -> numpy.uint64\n",
    "np.uint64(val)"
   ]
  },
  {
   "cell_type": "markdown",
   "metadata": {},
   "source": [
    "**Задание (ДЗ):**"
   ]
  },
  {
   "cell_type": "code",
   "execution_count": 8,
   "metadata": {},
   "outputs": [
    {
     "name": "stdout",
     "output_type": "stream",
     "text": [
      "type: <class 'int'>\n",
      "value: -129\n"
     ]
    }
   ],
   "source": [
    "val = -129\n",
    "\n",
    "print(f\"type: {type(val)}\\nvalue: {val}\")"
   ]
  },
  {
   "cell_type": "code",
   "execution_count": 9,
   "metadata": {},
   "outputs": [
    {
     "name": "stdout",
     "output_type": "stream",
     "text": [
      "type: <class 'numpy.int8'>\n",
      "value: 127\n"
     ]
    }
   ],
   "source": [
    "# -> numpy.int8\n",
    "val_n = np.int8(val)\n",
    "\n",
    "print(f\"type: {type(val_n)}\\nvalue: {val_n}\")"
   ]
  },
  {
   "cell_type": "code",
   "execution_count": 10,
   "metadata": {},
   "outputs": [
    {
     "name": "stdout",
     "output_type": "stream",
     "text": [
      "type: <class 'numpy.int16'>\n",
      "value: -129\n"
     ]
    }
   ],
   "source": [
    "# -> numpy.int16\n",
    "val_n = np.int16(val)\n",
    "\n",
    "print(f\"type: {type(val_n)}\\nvalue: {val_n}\")"
   ]
  },
  {
   "cell_type": "code",
   "execution_count": 11,
   "metadata": {},
   "outputs": [
    {
     "name": "stdout",
     "output_type": "stream",
     "text": [
      "type: <class 'numpy.uint8'>\n",
      "value: 127\n"
     ]
    }
   ],
   "source": [
    "# -> numpy.uint8\n",
    "val_n = np.uint8(val)\n",
    "\n",
    "print(f\"type: {type(val_n)}\\nvalue: {val_n}\")"
   ]
  },
  {
   "cell_type": "code",
   "execution_count": 12,
   "metadata": {},
   "outputs": [
    {
     "name": "stdout",
     "output_type": "stream",
     "text": [
      "type: <class 'numpy.uint32'>\n",
      "value: 4294967167\n"
     ]
    }
   ],
   "source": [
    "# -> numpy.uint32\n",
    "val_n = np.uint32(val)\n",
    "\n",
    "print(f\"type: {type(val_n)}\\nvalue: {val_n}\")"
   ]
  },
  {
   "cell_type": "code",
   "execution_count": 13,
   "metadata": {},
   "outputs": [
    {
     "name": "stdout",
     "output_type": "stream",
     "text": [
      "type: <class 'numpy.float64'>\n",
      "value: -129.0\n"
     ]
    }
   ],
   "source": [
    "# -> numpy.float128\n",
    "val_n = np.float64(val)\n",
    "\n",
    "print(f\"type: {type(val_n)}\\nvalue: {val_n}\")"
   ]
  },
  {
   "cell_type": "code",
   "execution_count": 14,
   "metadata": {},
   "outputs": [
    {
     "name": "stdout",
     "output_type": "stream",
     "text": [
      "type: <class 'numpy.str_'>\n",
      "value: -129\n"
     ]
    }
   ],
   "source": [
    "# -> numpy.str_\n",
    "val_n = np.str_(val)\n",
    "\n",
    "print(f\"type: {type(val_n)}\\nvalue: {val_n}\")"
   ]
  },
  {
   "cell_type": "code",
   "execution_count": 15,
   "metadata": {},
   "outputs": [
    {
     "name": "stdout",
     "output_type": "stream",
     "text": [
      "type: <class 'numpy.bool_'>\n",
      "value: True\n"
     ]
    }
   ],
   "source": [
    "# -> numpy.bool_\n",
    "val_n = np.bool_(val)\n",
    "\n",
    "print(f\"type: {type(val_n)}\\nvalue: {val_n}\")"
   ]
  },
  {
   "cell_type": "markdown",
   "metadata": {},
   "source": [
    "**Задача:**\n",
    "- Преобразовать тип переменной (массив) `arr` в другие типы (как указано в комментарии).\n",
    "- Вывести результат преобразования.\n",
    "- *Если результат преобразования непонятен, то разобраться самостоятельно (можно написать свои рассуждения в комментариях и преподаватель ответит при проверке) или попросить помощи у преподавателя.\n",
    "\n",
    "**Пример:**"
   ]
  },
  {
   "cell_type": "code",
   "execution_count": 16,
   "metadata": {},
   "outputs": [
    {
     "name": "stdout",
     "output_type": "stream",
     "text": [
      "type: <class 'numpy.ndarray'>\n",
      "value: [-150 -120    0  120  150]\n"
     ]
    }
   ],
   "source": [
    "arr = np.array([-150, -120, 0, 120, 150])\n",
    "print(f\"type: {type(arr)}\\nvalue: {arr}\")"
   ]
  },
  {
   "cell_type": "code",
   "execution_count": 17,
   "metadata": {},
   "outputs": [
    {
     "name": "stdout",
     "output_type": "stream",
     "text": [
      "type: <class 'numpy.ndarray'>\n",
      "value: [18446744073709551466 18446744073709551496                    0\n",
      "                  120                  150]\n"
     ]
    }
   ],
   "source": [
    "# -> numpy.uint64\n",
    "arr_n = arr.astype(np.uint64)\n",
    "\n",
    "print(f\"type: {type(arr_n)}\\nvalue: {arr_n}\")"
   ]
  },
  {
   "cell_type": "markdown",
   "metadata": {},
   "source": [
    "**Задание (ДЗ):**"
   ]
  },
  {
   "cell_type": "code",
   "execution_count": 18,
   "metadata": {},
   "outputs": [
    {
     "name": "stdout",
     "output_type": "stream",
     "text": [
      "type: <class 'numpy.ndarray'>\n",
      "value: [ 106 -120    0  120 -106]\n"
     ]
    }
   ],
   "source": [
    "# -> numpy.int8\n",
    "arr_n = arr.astype(np.int8)\n",
    "\n",
    "print(f\"type: {type(arr_n)}\\nvalue: {arr_n}\")"
   ]
  },
  {
   "cell_type": "code",
   "execution_count": 19,
   "metadata": {},
   "outputs": [
    {
     "name": "stdout",
     "output_type": "stream",
     "text": [
      "type: <class 'numpy.ndarray'>\n",
      "value: ['-150' '-120' '0' '120' '150']\n"
     ]
    }
   ],
   "source": [
    "# -> numpy.str_\n",
    "arr_n = arr.astype(np.str_)\n",
    "\n",
    "print(f\"type: {type(arr_n)}\\nvalue: {arr_n}\")"
   ]
  },
  {
   "cell_type": "code",
   "execution_count": 20,
   "metadata": {},
   "outputs": [
    {
     "name": "stdout",
     "output_type": "stream",
     "text": [
      "type: <class 'numpy.ndarray'>\n",
      "value: [ True  True False  True  True]\n"
     ]
    }
   ],
   "source": [
    "# -> numpy.bool_\n",
    "arr_n = arr.astype(np.bool_)\n",
    "\n",
    "print(f\"type: {type(arr_n)}\\nvalue: {arr_n}\")"
   ]
  },
  {
   "cell_type": "code",
   "execution_count": 21,
   "metadata": {},
   "outputs": [
    {
     "name": "stdout",
     "output_type": "stream",
     "text": [
      "type: <class 'numpy.ndarray'>\n",
      "value: [106 136   0 120 150]\n"
     ]
    }
   ],
   "source": [
    "# -> numpy.uint8\n",
    "arr_n = arr.astype(np.uint8)\n",
    "\n",
    "print(f\"type: {type(arr_n)}\\nvalue: {arr_n}\")"
   ]
  },
  {
   "cell_type": "markdown",
   "metadata": {},
   "source": [
    "## Пакет `Pandas`: типы данных"
   ]
  },
  {
   "cell_type": "markdown",
   "metadata": {},
   "source": [
    "### Загрузка данных (Hotel booking demand)\n",
    "\n",
    "[Источник (Hotel booking demand)](https://www.kaggle.com/jessemostipak/hotel-booking-demand)\n",
    "\n",
    "[Описание колонок](https://www.sciencedirect.com/science/article/pii/S2352340918315191#t0005)\n",
    "\n",
    "ВНИМАНИЕ: Предварительно датасет необходимо скачать к себе на локальный компьютер."
   ]
  },
  {
   "cell_type": "code",
   "execution_count": 22,
   "metadata": {
    "collapsed": false,
    "jupyter": {
     "outputs_hidden": false
    },
    "pycharm": {
     "name": "#%%\n"
    }
   },
   "outputs": [
    {
     "data": {
      "text/html": [
       "<div>\n",
       "<style scoped>\n",
       "    .dataframe tbody tr th:only-of-type {\n",
       "        vertical-align: middle;\n",
       "    }\n",
       "\n",
       "    .dataframe tbody tr th {\n",
       "        vertical-align: top;\n",
       "    }\n",
       "\n",
       "    .dataframe thead th {\n",
       "        text-align: right;\n",
       "    }\n",
       "</style>\n",
       "<table border=\"1\" class=\"dataframe\">\n",
       "  <thead>\n",
       "    <tr style=\"text-align: right;\">\n",
       "      <th></th>\n",
       "      <th>hotel</th>\n",
       "      <th>is_canceled</th>\n",
       "      <th>lead_time</th>\n",
       "      <th>arrival_date_year</th>\n",
       "      <th>arrival_date_month</th>\n",
       "      <th>arrival_date_week_number</th>\n",
       "      <th>arrival_date_day_of_month</th>\n",
       "      <th>stays_in_weekend_nights</th>\n",
       "      <th>stays_in_week_nights</th>\n",
       "      <th>adults</th>\n",
       "      <th>children</th>\n",
       "      <th>babies</th>\n",
       "      <th>meal</th>\n",
       "      <th>country</th>\n",
       "      <th>market_segment</th>\n",
       "      <th>distribution_channel</th>\n",
       "      <th>is_repeated_guest</th>\n",
       "      <th>previous_cancellations</th>\n",
       "      <th>previous_bookings_not_canceled</th>\n",
       "      <th>reserved_room_type</th>\n",
       "      <th>assigned_room_type</th>\n",
       "      <th>booking_changes</th>\n",
       "      <th>deposit_type</th>\n",
       "      <th>agent</th>\n",
       "      <th>company</th>\n",
       "      <th>days_in_waiting_list</th>\n",
       "      <th>customer_type</th>\n",
       "      <th>adr</th>\n",
       "      <th>required_car_parking_spaces</th>\n",
       "      <th>total_of_special_requests</th>\n",
       "      <th>reservation_status</th>\n",
       "      <th>reservation_status_date</th>\n",
       "    </tr>\n",
       "  </thead>\n",
       "  <tbody>\n",
       "    <tr>\n",
       "      <th>0</th>\n",
       "      <td>Resort Hotel</td>\n",
       "      <td>0</td>\n",
       "      <td>342</td>\n",
       "      <td>2015</td>\n",
       "      <td>July</td>\n",
       "      <td>27</td>\n",
       "      <td>1</td>\n",
       "      <td>0</td>\n",
       "      <td>0</td>\n",
       "      <td>2</td>\n",
       "      <td>0.0</td>\n",
       "      <td>0</td>\n",
       "      <td>BB</td>\n",
       "      <td>PRT</td>\n",
       "      <td>Direct</td>\n",
       "      <td>Direct</td>\n",
       "      <td>0</td>\n",
       "      <td>0</td>\n",
       "      <td>0</td>\n",
       "      <td>C</td>\n",
       "      <td>C</td>\n",
       "      <td>3</td>\n",
       "      <td>No Deposit</td>\n",
       "      <td>NaN</td>\n",
       "      <td>NaN</td>\n",
       "      <td>0</td>\n",
       "      <td>Transient</td>\n",
       "      <td>0.00</td>\n",
       "      <td>0</td>\n",
       "      <td>0</td>\n",
       "      <td>Check-Out</td>\n",
       "      <td>2015-07-01</td>\n",
       "    </tr>\n",
       "    <tr>\n",
       "      <th>1</th>\n",
       "      <td>Resort Hotel</td>\n",
       "      <td>0</td>\n",
       "      <td>737</td>\n",
       "      <td>2015</td>\n",
       "      <td>July</td>\n",
       "      <td>27</td>\n",
       "      <td>1</td>\n",
       "      <td>0</td>\n",
       "      <td>0</td>\n",
       "      <td>2</td>\n",
       "      <td>0.0</td>\n",
       "      <td>0</td>\n",
       "      <td>BB</td>\n",
       "      <td>PRT</td>\n",
       "      <td>Direct</td>\n",
       "      <td>Direct</td>\n",
       "      <td>0</td>\n",
       "      <td>0</td>\n",
       "      <td>0</td>\n",
       "      <td>C</td>\n",
       "      <td>C</td>\n",
       "      <td>4</td>\n",
       "      <td>No Deposit</td>\n",
       "      <td>NaN</td>\n",
       "      <td>NaN</td>\n",
       "      <td>0</td>\n",
       "      <td>Transient</td>\n",
       "      <td>0.00</td>\n",
       "      <td>0</td>\n",
       "      <td>0</td>\n",
       "      <td>Check-Out</td>\n",
       "      <td>2015-07-01</td>\n",
       "    </tr>\n",
       "    <tr>\n",
       "      <th>2</th>\n",
       "      <td>Resort Hotel</td>\n",
       "      <td>0</td>\n",
       "      <td>7</td>\n",
       "      <td>2015</td>\n",
       "      <td>July</td>\n",
       "      <td>27</td>\n",
       "      <td>1</td>\n",
       "      <td>0</td>\n",
       "      <td>1</td>\n",
       "      <td>1</td>\n",
       "      <td>0.0</td>\n",
       "      <td>0</td>\n",
       "      <td>BB</td>\n",
       "      <td>GBR</td>\n",
       "      <td>Direct</td>\n",
       "      <td>Direct</td>\n",
       "      <td>0</td>\n",
       "      <td>0</td>\n",
       "      <td>0</td>\n",
       "      <td>A</td>\n",
       "      <td>C</td>\n",
       "      <td>0</td>\n",
       "      <td>No Deposit</td>\n",
       "      <td>NaN</td>\n",
       "      <td>NaN</td>\n",
       "      <td>0</td>\n",
       "      <td>Transient</td>\n",
       "      <td>75.00</td>\n",
       "      <td>0</td>\n",
       "      <td>0</td>\n",
       "      <td>Check-Out</td>\n",
       "      <td>2015-07-02</td>\n",
       "    </tr>\n",
       "    <tr>\n",
       "      <th>3</th>\n",
       "      <td>Resort Hotel</td>\n",
       "      <td>0</td>\n",
       "      <td>13</td>\n",
       "      <td>2015</td>\n",
       "      <td>July</td>\n",
       "      <td>27</td>\n",
       "      <td>1</td>\n",
       "      <td>0</td>\n",
       "      <td>1</td>\n",
       "      <td>1</td>\n",
       "      <td>0.0</td>\n",
       "      <td>0</td>\n",
       "      <td>BB</td>\n",
       "      <td>GBR</td>\n",
       "      <td>Corporate</td>\n",
       "      <td>Corporate</td>\n",
       "      <td>0</td>\n",
       "      <td>0</td>\n",
       "      <td>0</td>\n",
       "      <td>A</td>\n",
       "      <td>A</td>\n",
       "      <td>0</td>\n",
       "      <td>No Deposit</td>\n",
       "      <td>304.0</td>\n",
       "      <td>NaN</td>\n",
       "      <td>0</td>\n",
       "      <td>Transient</td>\n",
       "      <td>75.00</td>\n",
       "      <td>0</td>\n",
       "      <td>0</td>\n",
       "      <td>Check-Out</td>\n",
       "      <td>2015-07-02</td>\n",
       "    </tr>\n",
       "    <tr>\n",
       "      <th>4</th>\n",
       "      <td>Resort Hotel</td>\n",
       "      <td>0</td>\n",
       "      <td>14</td>\n",
       "      <td>2015</td>\n",
       "      <td>July</td>\n",
       "      <td>27</td>\n",
       "      <td>1</td>\n",
       "      <td>0</td>\n",
       "      <td>2</td>\n",
       "      <td>2</td>\n",
       "      <td>0.0</td>\n",
       "      <td>0</td>\n",
       "      <td>BB</td>\n",
       "      <td>GBR</td>\n",
       "      <td>Online TA</td>\n",
       "      <td>TA/TO</td>\n",
       "      <td>0</td>\n",
       "      <td>0</td>\n",
       "      <td>0</td>\n",
       "      <td>A</td>\n",
       "      <td>A</td>\n",
       "      <td>0</td>\n",
       "      <td>No Deposit</td>\n",
       "      <td>240.0</td>\n",
       "      <td>NaN</td>\n",
       "      <td>0</td>\n",
       "      <td>Transient</td>\n",
       "      <td>98.00</td>\n",
       "      <td>0</td>\n",
       "      <td>1</td>\n",
       "      <td>Check-Out</td>\n",
       "      <td>2015-07-03</td>\n",
       "    </tr>\n",
       "    <tr>\n",
       "      <th>...</th>\n",
       "      <td>...</td>\n",
       "      <td>...</td>\n",
       "      <td>...</td>\n",
       "      <td>...</td>\n",
       "      <td>...</td>\n",
       "      <td>...</td>\n",
       "      <td>...</td>\n",
       "      <td>...</td>\n",
       "      <td>...</td>\n",
       "      <td>...</td>\n",
       "      <td>...</td>\n",
       "      <td>...</td>\n",
       "      <td>...</td>\n",
       "      <td>...</td>\n",
       "      <td>...</td>\n",
       "      <td>...</td>\n",
       "      <td>...</td>\n",
       "      <td>...</td>\n",
       "      <td>...</td>\n",
       "      <td>...</td>\n",
       "      <td>...</td>\n",
       "      <td>...</td>\n",
       "      <td>...</td>\n",
       "      <td>...</td>\n",
       "      <td>...</td>\n",
       "      <td>...</td>\n",
       "      <td>...</td>\n",
       "      <td>...</td>\n",
       "      <td>...</td>\n",
       "      <td>...</td>\n",
       "      <td>...</td>\n",
       "      <td>...</td>\n",
       "    </tr>\n",
       "    <tr>\n",
       "      <th>119385</th>\n",
       "      <td>City Hotel</td>\n",
       "      <td>0</td>\n",
       "      <td>23</td>\n",
       "      <td>2017</td>\n",
       "      <td>August</td>\n",
       "      <td>35</td>\n",
       "      <td>30</td>\n",
       "      <td>2</td>\n",
       "      <td>5</td>\n",
       "      <td>2</td>\n",
       "      <td>0.0</td>\n",
       "      <td>0</td>\n",
       "      <td>BB</td>\n",
       "      <td>BEL</td>\n",
       "      <td>Offline TA/TO</td>\n",
       "      <td>TA/TO</td>\n",
       "      <td>0</td>\n",
       "      <td>0</td>\n",
       "      <td>0</td>\n",
       "      <td>A</td>\n",
       "      <td>A</td>\n",
       "      <td>0</td>\n",
       "      <td>No Deposit</td>\n",
       "      <td>394.0</td>\n",
       "      <td>NaN</td>\n",
       "      <td>0</td>\n",
       "      <td>Transient</td>\n",
       "      <td>96.14</td>\n",
       "      <td>0</td>\n",
       "      <td>0</td>\n",
       "      <td>Check-Out</td>\n",
       "      <td>2017-09-06</td>\n",
       "    </tr>\n",
       "    <tr>\n",
       "      <th>119386</th>\n",
       "      <td>City Hotel</td>\n",
       "      <td>0</td>\n",
       "      <td>102</td>\n",
       "      <td>2017</td>\n",
       "      <td>August</td>\n",
       "      <td>35</td>\n",
       "      <td>31</td>\n",
       "      <td>2</td>\n",
       "      <td>5</td>\n",
       "      <td>3</td>\n",
       "      <td>0.0</td>\n",
       "      <td>0</td>\n",
       "      <td>BB</td>\n",
       "      <td>FRA</td>\n",
       "      <td>Online TA</td>\n",
       "      <td>TA/TO</td>\n",
       "      <td>0</td>\n",
       "      <td>0</td>\n",
       "      <td>0</td>\n",
       "      <td>E</td>\n",
       "      <td>E</td>\n",
       "      <td>0</td>\n",
       "      <td>No Deposit</td>\n",
       "      <td>9.0</td>\n",
       "      <td>NaN</td>\n",
       "      <td>0</td>\n",
       "      <td>Transient</td>\n",
       "      <td>225.43</td>\n",
       "      <td>0</td>\n",
       "      <td>2</td>\n",
       "      <td>Check-Out</td>\n",
       "      <td>2017-09-07</td>\n",
       "    </tr>\n",
       "    <tr>\n",
       "      <th>119387</th>\n",
       "      <td>City Hotel</td>\n",
       "      <td>0</td>\n",
       "      <td>34</td>\n",
       "      <td>2017</td>\n",
       "      <td>August</td>\n",
       "      <td>35</td>\n",
       "      <td>31</td>\n",
       "      <td>2</td>\n",
       "      <td>5</td>\n",
       "      <td>2</td>\n",
       "      <td>0.0</td>\n",
       "      <td>0</td>\n",
       "      <td>BB</td>\n",
       "      <td>DEU</td>\n",
       "      <td>Online TA</td>\n",
       "      <td>TA/TO</td>\n",
       "      <td>0</td>\n",
       "      <td>0</td>\n",
       "      <td>0</td>\n",
       "      <td>D</td>\n",
       "      <td>D</td>\n",
       "      <td>0</td>\n",
       "      <td>No Deposit</td>\n",
       "      <td>9.0</td>\n",
       "      <td>NaN</td>\n",
       "      <td>0</td>\n",
       "      <td>Transient</td>\n",
       "      <td>157.71</td>\n",
       "      <td>0</td>\n",
       "      <td>4</td>\n",
       "      <td>Check-Out</td>\n",
       "      <td>2017-09-07</td>\n",
       "    </tr>\n",
       "    <tr>\n",
       "      <th>119388</th>\n",
       "      <td>City Hotel</td>\n",
       "      <td>0</td>\n",
       "      <td>109</td>\n",
       "      <td>2017</td>\n",
       "      <td>August</td>\n",
       "      <td>35</td>\n",
       "      <td>31</td>\n",
       "      <td>2</td>\n",
       "      <td>5</td>\n",
       "      <td>2</td>\n",
       "      <td>0.0</td>\n",
       "      <td>0</td>\n",
       "      <td>BB</td>\n",
       "      <td>GBR</td>\n",
       "      <td>Online TA</td>\n",
       "      <td>TA/TO</td>\n",
       "      <td>0</td>\n",
       "      <td>0</td>\n",
       "      <td>0</td>\n",
       "      <td>A</td>\n",
       "      <td>A</td>\n",
       "      <td>0</td>\n",
       "      <td>No Deposit</td>\n",
       "      <td>89.0</td>\n",
       "      <td>NaN</td>\n",
       "      <td>0</td>\n",
       "      <td>Transient</td>\n",
       "      <td>104.40</td>\n",
       "      <td>0</td>\n",
       "      <td>0</td>\n",
       "      <td>Check-Out</td>\n",
       "      <td>2017-09-07</td>\n",
       "    </tr>\n",
       "    <tr>\n",
       "      <th>119389</th>\n",
       "      <td>City Hotel</td>\n",
       "      <td>0</td>\n",
       "      <td>205</td>\n",
       "      <td>2017</td>\n",
       "      <td>August</td>\n",
       "      <td>35</td>\n",
       "      <td>29</td>\n",
       "      <td>2</td>\n",
       "      <td>7</td>\n",
       "      <td>2</td>\n",
       "      <td>0.0</td>\n",
       "      <td>0</td>\n",
       "      <td>HB</td>\n",
       "      <td>DEU</td>\n",
       "      <td>Online TA</td>\n",
       "      <td>TA/TO</td>\n",
       "      <td>0</td>\n",
       "      <td>0</td>\n",
       "      <td>0</td>\n",
       "      <td>A</td>\n",
       "      <td>A</td>\n",
       "      <td>0</td>\n",
       "      <td>No Deposit</td>\n",
       "      <td>9.0</td>\n",
       "      <td>NaN</td>\n",
       "      <td>0</td>\n",
       "      <td>Transient</td>\n",
       "      <td>151.20</td>\n",
       "      <td>0</td>\n",
       "      <td>2</td>\n",
       "      <td>Check-Out</td>\n",
       "      <td>2017-09-07</td>\n",
       "    </tr>\n",
       "  </tbody>\n",
       "</table>\n",
       "<p>119390 rows × 32 columns</p>\n",
       "</div>"
      ],
      "text/plain": [
       "               hotel  is_canceled  lead_time  arrival_date_year  \\\n",
       "0       Resort Hotel            0        342               2015   \n",
       "1       Resort Hotel            0        737               2015   \n",
       "2       Resort Hotel            0          7               2015   \n",
       "3       Resort Hotel            0         13               2015   \n",
       "4       Resort Hotel            0         14               2015   \n",
       "...              ...          ...        ...                ...   \n",
       "119385    City Hotel            0         23               2017   \n",
       "119386    City Hotel            0        102               2017   \n",
       "119387    City Hotel            0         34               2017   \n",
       "119388    City Hotel            0        109               2017   \n",
       "119389    City Hotel            0        205               2017   \n",
       "\n",
       "       arrival_date_month  arrival_date_week_number  \\\n",
       "0                    July                        27   \n",
       "1                    July                        27   \n",
       "2                    July                        27   \n",
       "3                    July                        27   \n",
       "4                    July                        27   \n",
       "...                   ...                       ...   \n",
       "119385             August                        35   \n",
       "119386             August                        35   \n",
       "119387             August                        35   \n",
       "119388             August                        35   \n",
       "119389             August                        35   \n",
       "\n",
       "        arrival_date_day_of_month  stays_in_weekend_nights  \\\n",
       "0                               1                        0   \n",
       "1                               1                        0   \n",
       "2                               1                        0   \n",
       "3                               1                        0   \n",
       "4                               1                        0   \n",
       "...                           ...                      ...   \n",
       "119385                         30                        2   \n",
       "119386                         31                        2   \n",
       "119387                         31                        2   \n",
       "119388                         31                        2   \n",
       "119389                         29                        2   \n",
       "\n",
       "        stays_in_week_nights  adults  children  babies meal country  \\\n",
       "0                          0       2       0.0       0   BB     PRT   \n",
       "1                          0       2       0.0       0   BB     PRT   \n",
       "2                          1       1       0.0       0   BB     GBR   \n",
       "3                          1       1       0.0       0   BB     GBR   \n",
       "4                          2       2       0.0       0   BB     GBR   \n",
       "...                      ...     ...       ...     ...  ...     ...   \n",
       "119385                     5       2       0.0       0   BB     BEL   \n",
       "119386                     5       3       0.0       0   BB     FRA   \n",
       "119387                     5       2       0.0       0   BB     DEU   \n",
       "119388                     5       2       0.0       0   BB     GBR   \n",
       "119389                     7       2       0.0       0   HB     DEU   \n",
       "\n",
       "       market_segment distribution_channel  is_repeated_guest  \\\n",
       "0              Direct               Direct                  0   \n",
       "1              Direct               Direct                  0   \n",
       "2              Direct               Direct                  0   \n",
       "3           Corporate            Corporate                  0   \n",
       "4           Online TA                TA/TO                  0   \n",
       "...               ...                  ...                ...   \n",
       "119385  Offline TA/TO                TA/TO                  0   \n",
       "119386      Online TA                TA/TO                  0   \n",
       "119387      Online TA                TA/TO                  0   \n",
       "119388      Online TA                TA/TO                  0   \n",
       "119389      Online TA                TA/TO                  0   \n",
       "\n",
       "        previous_cancellations  previous_bookings_not_canceled  \\\n",
       "0                            0                               0   \n",
       "1                            0                               0   \n",
       "2                            0                               0   \n",
       "3                            0                               0   \n",
       "4                            0                               0   \n",
       "...                        ...                             ...   \n",
       "119385                       0                               0   \n",
       "119386                       0                               0   \n",
       "119387                       0                               0   \n",
       "119388                       0                               0   \n",
       "119389                       0                               0   \n",
       "\n",
       "       reserved_room_type assigned_room_type  booking_changes deposit_type  \\\n",
       "0                       C                  C                3   No Deposit   \n",
       "1                       C                  C                4   No Deposit   \n",
       "2                       A                  C                0   No Deposit   \n",
       "3                       A                  A                0   No Deposit   \n",
       "4                       A                  A                0   No Deposit   \n",
       "...                   ...                ...              ...          ...   \n",
       "119385                  A                  A                0   No Deposit   \n",
       "119386                  E                  E                0   No Deposit   \n",
       "119387                  D                  D                0   No Deposit   \n",
       "119388                  A                  A                0   No Deposit   \n",
       "119389                  A                  A                0   No Deposit   \n",
       "\n",
       "        agent  company  days_in_waiting_list customer_type     adr  \\\n",
       "0         NaN      NaN                     0     Transient    0.00   \n",
       "1         NaN      NaN                     0     Transient    0.00   \n",
       "2         NaN      NaN                     0     Transient   75.00   \n",
       "3       304.0      NaN                     0     Transient   75.00   \n",
       "4       240.0      NaN                     0     Transient   98.00   \n",
       "...       ...      ...                   ...           ...     ...   \n",
       "119385  394.0      NaN                     0     Transient   96.14   \n",
       "119386    9.0      NaN                     0     Transient  225.43   \n",
       "119387    9.0      NaN                     0     Transient  157.71   \n",
       "119388   89.0      NaN                     0     Transient  104.40   \n",
       "119389    9.0      NaN                     0     Transient  151.20   \n",
       "\n",
       "        required_car_parking_spaces  total_of_special_requests  \\\n",
       "0                                 0                          0   \n",
       "1                                 0                          0   \n",
       "2                                 0                          0   \n",
       "3                                 0                          0   \n",
       "4                                 0                          1   \n",
       "...                             ...                        ...   \n",
       "119385                            0                          0   \n",
       "119386                            0                          2   \n",
       "119387                            0                          4   \n",
       "119388                            0                          0   \n",
       "119389                            0                          2   \n",
       "\n",
       "       reservation_status reservation_status_date  \n",
       "0               Check-Out              2015-07-01  \n",
       "1               Check-Out              2015-07-01  \n",
       "2               Check-Out              2015-07-02  \n",
       "3               Check-Out              2015-07-02  \n",
       "4               Check-Out              2015-07-03  \n",
       "...                   ...                     ...  \n",
       "119385          Check-Out              2017-09-06  \n",
       "119386          Check-Out              2017-09-07  \n",
       "119387          Check-Out              2017-09-07  \n",
       "119388          Check-Out              2017-09-07  \n",
       "119389          Check-Out              2017-09-07  \n",
       "\n",
       "[119390 rows x 32 columns]"
      ]
     },
     "execution_count": 22,
     "metadata": {},
     "output_type": "execute_result"
    }
   ],
   "source": [
    "# показать все столбцы\n",
    "pd.options.display.max_columns = None\n",
    "\n",
    "# загрузить датасет в pandas dataframe\n",
    "df = pd.read_csv('hotel_bookings.csv')\n",
    "\n",
    "# вывести первые 5 и последние 5 строк\n",
    "df"
   ]
  },
  {
   "cell_type": "code",
   "execution_count": 23,
   "metadata": {},
   "outputs": [
    {
     "name": "stdout",
     "output_type": "stream",
     "text": [
      "<class 'pandas.core.frame.DataFrame'>\n",
      "RangeIndex: 119390 entries, 0 to 119389\n",
      "Data columns (total 32 columns):\n",
      " #   Column                          Non-Null Count   Dtype  \n",
      "---  ------                          --------------   -----  \n",
      " 0   hotel                           119390 non-null  object \n",
      " 1   is_canceled                     119390 non-null  int64  \n",
      " 2   lead_time                       119390 non-null  int64  \n",
      " 3   arrival_date_year               119390 non-null  int64  \n",
      " 4   arrival_date_month              119390 non-null  object \n",
      " 5   arrival_date_week_number        119390 non-null  int64  \n",
      " 6   arrival_date_day_of_month       119390 non-null  int64  \n",
      " 7   stays_in_weekend_nights         119390 non-null  int64  \n",
      " 8   stays_in_week_nights            119390 non-null  int64  \n",
      " 9   adults                          119390 non-null  int64  \n",
      " 10  children                        119386 non-null  float64\n",
      " 11  babies                          119390 non-null  int64  \n",
      " 12  meal                            119390 non-null  object \n",
      " 13  country                         118902 non-null  object \n",
      " 14  market_segment                  119390 non-null  object \n",
      " 15  distribution_channel            119390 non-null  object \n",
      " 16  is_repeated_guest               119390 non-null  int64  \n",
      " 17  previous_cancellations          119390 non-null  int64  \n",
      " 18  previous_bookings_not_canceled  119390 non-null  int64  \n",
      " 19  reserved_room_type              119390 non-null  object \n",
      " 20  assigned_room_type              119390 non-null  object \n",
      " 21  booking_changes                 119390 non-null  int64  \n",
      " 22  deposit_type                    119390 non-null  object \n",
      " 23  agent                           103050 non-null  float64\n",
      " 24  company                         6797 non-null    float64\n",
      " 25  days_in_waiting_list            119390 non-null  int64  \n",
      " 26  customer_type                   119390 non-null  object \n",
      " 27  adr                             119390 non-null  float64\n",
      " 28  required_car_parking_spaces     119390 non-null  int64  \n",
      " 29  total_of_special_requests       119390 non-null  int64  \n",
      " 30  reservation_status              119390 non-null  object \n",
      " 31  reservation_status_date         119390 non-null  object \n",
      "dtypes: float64(4), int64(16), object(12)\n",
      "memory usage: 29.1+ MB\n"
     ]
    }
   ],
   "source": [
    "# получить данные о датафрейме: список колонок, сколько ненулевых, типы колонок...\n",
    "df.info()"
   ]
  },
  {
   "cell_type": "markdown",
   "metadata": {},
   "source": [
    "### Категориальные данные"
   ]
  },
  {
   "cell_type": "code",
   "execution_count": 24,
   "metadata": {},
   "outputs": [
    {
     "data": {
      "text/plain": [
       "955120"
      ]
     },
     "execution_count": 24,
     "metadata": {},
     "output_type": "execute_result"
    }
   ],
   "source": [
    "# сколько байт занимает столбец meal (до преобразования)\n",
    "df.meal.nbytes"
   ]
  },
  {
   "cell_type": "code",
   "execution_count": 25,
   "metadata": {
    "pycharm": {
     "name": "#%%\n"
    }
   },
   "outputs": [
    {
     "data": {
      "text/plain": [
       "0         BB\n",
       "1         BB\n",
       "2         BB\n",
       "3         BB\n",
       "4         BB\n",
       "          ..\n",
       "119385    BB\n",
       "119386    BB\n",
       "119387    BB\n",
       "119388    BB\n",
       "119389    HB\n",
       "Name: meal, Length: 119390, dtype: category\n",
       "Categories (5, object): ['BB', 'FB', 'HB', 'SC', 'Undefined']"
      ]
     },
     "execution_count": 25,
     "metadata": {},
     "output_type": "execute_result"
    }
   ],
   "source": [
    "# преобразовать тип столбца meal в category\n",
    "df['meal'] = df['meal'].astype('category')\n",
    "                  \n",
    "# вывести значения столбца meal\n",
    "df['meal']"
   ]
  },
  {
   "cell_type": "code",
   "execution_count": 26,
   "metadata": {},
   "outputs": [
    {
     "data": {
      "text/plain": [
       "['BB', 'FB', 'HB', 'SC', 'Undefined']"
      ]
     },
     "execution_count": 26,
     "metadata": {},
     "output_type": "execute_result"
    }
   ],
   "source": [
    "# вывести все уникальные значения колнки meal (тип list)\n",
    "df.meal.unique().tolist()"
   ]
  },
  {
   "cell_type": "code",
   "execution_count": 27,
   "metadata": {},
   "outputs": [
    {
     "data": {
      "text/plain": [
       "0         BB\n",
       "1         BB\n",
       "2         BB\n",
       "3         BB\n",
       "4         BB\n",
       "          ..\n",
       "119385    BB\n",
       "119386    BB\n",
       "119387    BB\n",
       "119388    BB\n",
       "119389    HB\n",
       "Name: meal, Length: 119390, dtype: category\n",
       "Categories (5, object): ['Undefined' < 'SC' < 'BB' < 'HB' < 'FB']"
      ]
     },
     "execution_count": 27,
     "metadata": {},
     "output_type": "execute_result"
    }
   ],
   "source": [
    "# установить порядок для категорий meal\n",
    "# (['Undefined', 'SC', 'BB', 'HB', 'FB'])\n",
    "\n",
    "df.meal.cat.set_categories(['Undefined', 'SC', 'BB', 'HB', 'FB'], ordered=True)\n"
   ]
  },
  {
   "cell_type": "code",
   "execution_count": 28,
   "metadata": {},
   "outputs": [
    {
     "data": {
      "text/plain": [
       "119430"
      ]
     },
     "execution_count": 28,
     "metadata": {},
     "output_type": "execute_result"
    }
   ],
   "source": [
    "# сколько байт занимает столбец meal (после преобразования)\n",
    "df.meal.nbytes"
   ]
  },
  {
   "cell_type": "markdown",
   "metadata": {},
   "source": [
    "### Разреженные структуры данных"
   ]
  },
  {
   "cell_type": "code",
   "execution_count": 29,
   "metadata": {},
   "outputs": [
    {
     "data": {
      "text/plain": [
       "955120"
      ]
     },
     "execution_count": 29,
     "metadata": {},
     "output_type": "execute_result"
    }
   ],
   "source": [
    "# сколько байт занимает столбец company (до преобразования)\n",
    "df.company.nbytes"
   ]
  },
  {
   "cell_type": "code",
   "execution_count": 30,
   "metadata": {},
   "outputs": [
    {
     "data": {
      "text/plain": [
       "0        NaN\n",
       "1        NaN\n",
       "2        NaN\n",
       "3        NaN\n",
       "4        NaN\n",
       "          ..\n",
       "119385   NaN\n",
       "119386   NaN\n",
       "119387   NaN\n",
       "119388   NaN\n",
       "119389   NaN\n",
       "Name: company, Length: 119390, dtype: Sparse[float64, nan]"
      ]
     },
     "execution_count": 30,
     "metadata": {},
     "output_type": "execute_result"
    }
   ],
   "source": [
    "# преобразовать тип столбца company в SparseArray\n",
    "df.company = df.company.astype('Sparse') \n",
    "# вывести значения столбца meal\n",
    "df.company"
   ]
  },
  {
   "cell_type": "code",
   "execution_count": 31,
   "metadata": {},
   "outputs": [
    {
     "data": {
      "text/plain": [
       "81564"
      ]
     },
     "execution_count": 31,
     "metadata": {},
     "output_type": "execute_result"
    }
   ],
   "source": [
    "# сколько байт занимает столбец company (после преобразования)\n",
    "df.company.nbytes"
   ]
  },
  {
   "cell_type": "code",
   "execution_count": 32,
   "metadata": {},
   "outputs": [
    {
     "data": {
      "text/plain": [
       "0        NaN\n",
       "1        NaN\n",
       "2        NaN\n",
       "3        NaN\n",
       "4        NaN\n",
       "          ..\n",
       "119385   NaN\n",
       "119386   NaN\n",
       "119387   NaN\n",
       "119388   NaN\n",
       "119389   NaN\n",
       "Name: company, Length: 119390, dtype: Sparse[float64, nan]"
      ]
     },
     "metadata": {},
     "output_type": "display_data"
    },
    {
     "name": "stdout",
     "output_type": "stream",
     "text": [
      "\n",
      "sdf.dtypes = Sparse[float64, nan]\n",
      "\n",
      "sdf.sparse.density = 0.056931066253455065\n"
     ]
    }
   ],
   "source": [
    "# плотность (% значений, которые не были \"сжаты\") для столбца company\n",
    "sdf = df.company.astype(pd.SparseDtype(\"float\", np.nan))\n",
    "display(sdf)\n",
    "\n",
    "print(\"\\nsdf.dtypes =\", sdf.dtypes)\n",
    "\n",
    "# плотность (% значений, которые не были \"сжаты\")\n",
    "print(\"\\nsdf.sparse.density =\", sdf.sparse.density)"
   ]
  },
  {
   "cell_type": "code",
   "execution_count": 33,
   "metadata": {},
   "outputs": [
    {
     "name": "stdout",
     "output_type": "stream",
     "text": [
      "<class 'pandas.core.frame.DataFrame'>\n",
      "RangeIndex: 119390 entries, 0 to 119389\n",
      "Data columns (total 32 columns):\n",
      " #   Column                          Non-Null Count   Dtype               \n",
      "---  ------                          --------------   -----               \n",
      " 0   hotel                           119390 non-null  object              \n",
      " 1   is_canceled                     119390 non-null  int64               \n",
      " 2   lead_time                       119390 non-null  int64               \n",
      " 3   arrival_date_year               119390 non-null  int64               \n",
      " 4   arrival_date_month              119390 non-null  object              \n",
      " 5   arrival_date_week_number        119390 non-null  int64               \n",
      " 6   arrival_date_day_of_month       119390 non-null  int64               \n",
      " 7   stays_in_weekend_nights         119390 non-null  int64               \n",
      " 8   stays_in_week_nights            119390 non-null  int64               \n",
      " 9   adults                          119390 non-null  int64               \n",
      " 10  children                        119386 non-null  float64             \n",
      " 11  babies                          119390 non-null  int64               \n",
      " 12  meal                            119390 non-null  category            \n",
      " 13  country                         118902 non-null  object              \n",
      " 14  market_segment                  119390 non-null  object              \n",
      " 15  distribution_channel            119390 non-null  object              \n",
      " 16  is_repeated_guest               119390 non-null  int64               \n",
      " 17  previous_cancellations          119390 non-null  int64               \n",
      " 18  previous_bookings_not_canceled  119390 non-null  int64               \n",
      " 19  reserved_room_type              119390 non-null  object              \n",
      " 20  assigned_room_type              119390 non-null  object              \n",
      " 21  booking_changes                 119390 non-null  int64               \n",
      " 22  deposit_type                    119390 non-null  object              \n",
      " 23  agent                           103050 non-null  float64             \n",
      " 24  company                         6797 non-null    Sparse[float64, nan]\n",
      " 25  days_in_waiting_list            119390 non-null  int64               \n",
      " 26  customer_type                   119390 non-null  object              \n",
      " 27  adr                             119390 non-null  float64             \n",
      " 28  required_car_parking_spaces     119390 non-null  int64               \n",
      " 29  total_of_special_requests       119390 non-null  int64               \n",
      " 30  reservation_status              119390 non-null  object              \n",
      " 31  reservation_status_date         119390 non-null  object              \n",
      "dtypes: Sparse[float64, nan](1), category(1), float64(3), int64(16), object(11)\n",
      "memory usage: 27.5+ MB\n"
     ]
    }
   ],
   "source": [
    "# получить данные о датафрейме (проверить, что тип колонок изменился)\n",
    "df.info()"
   ]
  },
  {
   "cell_type": "markdown",
   "metadata": {},
   "source": [
    "### Интервальный индекс"
   ]
  },
  {
   "cell_type": "code",
   "execution_count": 34,
   "metadata": {},
   "outputs": [
    {
     "data": {
      "text/plain": [
       "<bound method Series.unique of 0         342\n",
       "1         737\n",
       "2           7\n",
       "3          13\n",
       "4          14\n",
       "         ... \n",
       "119385     23\n",
       "119386    102\n",
       "119387     34\n",
       "119388    109\n",
       "119389    205\n",
       "Name: lead_time, Length: 119390, dtype: int64>"
      ]
     },
     "execution_count": 34,
     "metadata": {},
     "output_type": "execute_result"
    }
   ],
   "source": [
    "# вывести все уникальные значения столбца lead_time\n",
    "df.lead_time.unique                     "
   ]
  },
  {
   "cell_type": "code",
   "execution_count": 35,
   "metadata": {},
   "outputs": [
    {
     "data": {
      "text/plain": [
       "0"
      ]
     },
     "execution_count": 35,
     "metadata": {},
     "output_type": "execute_result"
    }
   ],
   "source": [
    "# вывести минимальное значение столбца lead_time\n",
    "df.lead_time.min()"
   ]
  },
  {
   "cell_type": "code",
   "execution_count": 36,
   "metadata": {},
   "outputs": [
    {
     "data": {
      "text/plain": [
       "737"
      ]
     },
     "execution_count": 36,
     "metadata": {},
     "output_type": "execute_result"
    }
   ],
   "source": [
    "# вывести максимальное значение столбца lead_time\n",
    "df.lead_time.max()"
   ]
  },
  {
   "cell_type": "code",
   "execution_count": 37,
   "metadata": {},
   "outputs": [
    {
     "data": {
      "text/plain": [
       "0         (160.0, 737.0]\n",
       "1         (160.0, 737.0]\n",
       "2         (-0.001, 18.0]\n",
       "3         (-0.001, 18.0]\n",
       "4         (-0.001, 18.0]\n",
       "               ...      \n",
       "119385      (18.0, 69.0]\n",
       "119386     (69.0, 160.0]\n",
       "119387      (18.0, 69.0]\n",
       "119388     (69.0, 160.0]\n",
       "119389    (160.0, 737.0]\n",
       "Name: lead_time, Length: 119390, dtype: category\n",
       "Categories (4, interval[float64]): [(-0.001, 18.0] < (18.0, 69.0] < (69.0, 160.0] < (160.0, 737.0]]"
      ]
     },
     "execution_count": 37,
     "metadata": {},
     "output_type": "execute_result"
    }
   ],
   "source": [
    "# используя функцию qcut разбить значения в стобце lead_time на 4 квантили\n",
    "lead_time_intervals = pd.qcut(df.lead_time, q = 4)\n",
    "\n",
    "# вывести результат\n",
    "lead_time_intervals"
   ]
  },
  {
   "cell_type": "code",
   "execution_count": 38,
   "metadata": {},
   "outputs": [
    {
     "data": {
      "text/plain": [
       "pandas.core.series.Series"
      ]
     },
     "execution_count": 38,
     "metadata": {},
     "output_type": "execute_result"
    }
   ],
   "source": [
    "# получить тип результата функции qcut\n",
    "type(lead_time_intervals)"
   ]
  },
  {
   "cell_type": "code",
   "execution_count": 39,
   "metadata": {},
   "outputs": [
    {
     "data": {
      "text/plain": [
       "IntervalIndex([(-0.001, 18.0], (18.0, 69.0], (69.0, 160.0], (160.0, 737.0]],\n",
       "              closed='right',\n",
       "              dtype='interval[float64]')"
      ]
     },
     "execution_count": 39,
     "metadata": {},
     "output_type": "execute_result"
    }
   ],
   "source": [
    "# получить список категории\n",
    "lead_time_intervals.cat.categories"
   ]
  },
  {
   "cell_type": "code",
   "execution_count": 40,
   "metadata": {},
   "outputs": [
    {
     "data": {
      "text/plain": [
       "(-0.001, 18.0]    30260\n",
       "(160.0, 737.0]    29822\n",
       "(69.0, 160.0]     29669\n",
       "(18.0, 69.0]      29639\n",
       "Name: lead_time, dtype: int64"
      ]
     },
     "execution_count": 40,
     "metadata": {},
     "output_type": "execute_result"
    }
   ],
   "source": [
    "# число вхождений в каждый бин (интевал)\n",
    "pd.value_counts(lead_time_intervals)"
   ]
  },
  {
   "cell_type": "markdown",
   "metadata": {},
   "source": [
    "### Обработка часовых поясов"
   ]
  },
  {
   "cell_type": "code",
   "execution_count": 41,
   "metadata": {},
   "outputs": [
    {
     "data": {
      "text/plain": [
       "0         2015-07-01\n",
       "1         2015-07-01\n",
       "2         2015-07-02\n",
       "3         2015-07-02\n",
       "4         2015-07-03\n",
       "             ...    \n",
       "119385    2017-09-06\n",
       "119386    2017-09-07\n",
       "119387    2017-09-07\n",
       "119388    2017-09-07\n",
       "119389    2017-09-07\n",
       "Name: reservation_status_date, Length: 119390, dtype: object"
      ]
     },
     "execution_count": 41,
     "metadata": {},
     "output_type": "execute_result"
    }
   ],
   "source": [
    "# вывести значения столбца reservation_status_date\n",
    "# обратить внимание на dtype\n",
    "df.reservation_status_date"
   ]
  },
  {
   "cell_type": "code",
   "execution_count": 42,
   "metadata": {},
   "outputs": [],
   "source": [
    "# конвертировать тип столбца reservation_status_date (object -> datetime64)\n",
    "df.reservation_status_date = df.reservation_status_date.astype('datetime64') "
   ]
  },
  {
   "cell_type": "code",
   "execution_count": 43,
   "metadata": {},
   "outputs": [
    {
     "data": {
      "text/plain": [
       "0        2015-07-01\n",
       "1        2015-07-01\n",
       "2        2015-07-02\n",
       "3        2015-07-02\n",
       "4        2015-07-03\n",
       "            ...    \n",
       "119385   2017-09-06\n",
       "119386   2017-09-07\n",
       "119387   2017-09-07\n",
       "119388   2017-09-07\n",
       "119389   2017-09-07\n",
       "Name: reservation_status_date, Length: 119390, dtype: datetime64[ns]"
      ]
     },
     "execution_count": 43,
     "metadata": {},
     "output_type": "execute_result"
    }
   ],
   "source": [
    "# вывести значения столбца reservation_status_date\n",
    "# обратить внимание на dtype\n",
    "df.reservation_status_date"
   ]
  },
  {
   "cell_type": "code",
   "execution_count": 44,
   "metadata": {},
   "outputs": [
    {
     "data": {
      "text/plain": [
       "0        2015-07-01 00:00:00+00:00\n",
       "1        2015-07-01 00:00:00+00:00\n",
       "2        2015-07-02 00:00:00+00:00\n",
       "3        2015-07-02 00:00:00+00:00\n",
       "4        2015-07-03 00:00:00+00:00\n",
       "                    ...           \n",
       "119385   2017-09-06 00:00:00+00:00\n",
       "119386   2017-09-07 00:00:00+00:00\n",
       "119387   2017-09-07 00:00:00+00:00\n",
       "119388   2017-09-07 00:00:00+00:00\n",
       "119389   2017-09-07 00:00:00+00:00\n",
       "Name: reservation_status_date, Length: 119390, dtype: datetime64[ns, UTC]"
      ]
     },
     "execution_count": 44,
     "metadata": {},
     "output_type": "execute_result"
    }
   ],
   "source": [
    "# установить стандарт UTC для столбца reservation_status_date\n",
    "# обратить внимание на dtype\n",
    "df.reservation_status_date = df.reservation_status_date.dt.tz_localize(\"UTC\")\n",
    "# отобразить столбец reservation_status_date\n",
    "df.reservation_status_date"
   ]
  },
  {
   "cell_type": "code",
   "execution_count": 45,
   "metadata": {},
   "outputs": [
    {
     "data": {
      "text/plain": [
       "0        2015-07-01 00:00:00+00:00\n",
       "1        2015-07-01 00:00:00+00:00\n",
       "2        2015-07-02 00:00:00+00:00\n",
       "3        2015-07-02 00:00:00+00:00\n",
       "4        2015-07-03 00:00:00+00:00\n",
       "                    ...           \n",
       "119385   2017-09-06 00:00:00+00:00\n",
       "119386   2017-09-07 00:00:00+00:00\n",
       "119387   2017-09-07 00:00:00+00:00\n",
       "119388   2017-09-07 00:00:00+00:00\n",
       "119389   2017-09-07 00:00:00+00:00\n",
       "Name: reservation_status_date, Length: 119390, dtype: datetime64[ns, Africa/Lome]"
      ]
     },
     "execution_count": 45,
     "metadata": {},
     "output_type": "execute_result"
    }
   ],
   "source": [
    "# изменить часовой пояс столбца reservation_status_date на \"Africa/Lome\"\n",
    "# обратить внимание на dtype\n",
    "df.reservation_status_date = df.reservation_status_date.dt.tz_convert(\"Africa/Lome\")\n",
    "# отобразить столбец reservation_status_date\n",
    "df.reservation_status_date"
   ]
  },
  {
   "cell_type": "code",
   "execution_count": 46,
   "metadata": {},
   "outputs": [
    {
     "data": {
      "text/plain": [
       "0        2015-07-31 05:00:00+00:00\n",
       "1        2015-07-31 05:00:00+00:00\n",
       "2        2015-08-01 05:00:00+00:00\n",
       "3        2015-08-01 05:00:00+00:00\n",
       "4        2015-08-02 05:00:00+00:00\n",
       "                    ...           \n",
       "119385   2017-10-06 05:00:00+00:00\n",
       "119386   2017-10-07 05:00:00+00:00\n",
       "119387   2017-10-07 05:00:00+00:00\n",
       "119388   2017-10-07 05:00:00+00:00\n",
       "119389   2017-10-07 05:00:00+00:00\n",
       "Name: reservation_status_date, Length: 119390, dtype: datetime64[ns, Africa/Lome]"
      ]
     },
     "execution_count": 46,
     "metadata": {},
     "output_type": "execute_result"
    }
   ],
   "source": [
    "# добавить к каждой дате столбца reservation_status_date 30 дней и 5 часов\n",
    "df.reservation_status_date = df.reservation_status_date + pd.Timedelta(\"30 day 5 hours\")\n",
    "df.reservation_status_date"
   ]
  },
  {
   "cell_type": "markdown",
   "metadata": {},
   "source": [
    "### Представление промежутка времени"
   ]
  },
  {
   "cell_type": "code",
   "execution_count": 47,
   "metadata": {},
   "outputs": [
    {
     "name": "stderr",
     "output_type": "stream",
     "text": [
      "C:\\Users\\skovalchuk\\.conda\\envs\\levelup_ds\\lib\\site-packages\\pandas\\core\\arrays\\datetimes.py:1101: UserWarning: Converting to PeriodArray/Index representation will drop timezone information.\n",
      "  warnings.warn(\n"
     ]
    },
    {
     "data": {
      "text/plain": [
       "0         2015-07-31 05:00\n",
       "1         2015-07-31 05:00\n",
       "2         2015-08-01 05:00\n",
       "3         2015-08-01 05:00\n",
       "4         2015-08-02 05:00\n",
       "                ...       \n",
       "119385    2017-10-06 05:00\n",
       "119386    2017-10-07 05:00\n",
       "119387    2017-10-07 05:00\n",
       "119388    2017-10-07 05:00\n",
       "119389    2017-10-07 05:00\n",
       "Name: reservation_status_date_period, Length: 119390, dtype: period[T]"
      ]
     },
     "execution_count": 47,
     "metadata": {},
     "output_type": "execute_result"
    }
   ],
   "source": [
    "# добавить столбец reservation_status_date_period datetime64 -> period[min]\n",
    "# UserWarning: Converting to PeriodArray/Index representation will drop timezone information. - это норма :)\n",
    "df['reservation_status_date_period'] = df.reservation_status_date .dt.to_period(\"min\")\n",
    "# отобразить столбец reservation_status_date_period\n",
    "df.reservation_status_date_period"
   ]
  },
  {
   "cell_type": "code",
   "execution_count": 50,
   "metadata": {},
   "outputs": [
    {
     "data": {
      "text/plain": [
       "0         2015-07-31 13:55\n",
       "1         2015-07-31 13:55\n",
       "2         2015-08-01 13:55\n",
       "3         2015-08-01 13:55\n",
       "4         2015-08-02 13:55\n",
       "                ...       \n",
       "119385    2017-10-06 13:55\n",
       "119386    2017-10-07 13:55\n",
       "119387    2017-10-07 13:55\n",
       "119388    2017-10-07 13:55\n",
       "119389    2017-10-07 13:55\n",
       "Name: reservation_status_date_period, Length: 119390, dtype: period[T]"
      ]
     },
     "execution_count": 50,
     "metadata": {},
     "output_type": "execute_result"
    }
   ],
   "source": [
    "# обавить 4 часа к каждому элементу столбца reservation_status_date_period\n",
    "df.reservation_status_date_period = df.reservation_status_date_period + pd.Timedelta(\"4 hours\")\n",
    "# отобразить столбец reservation_status_date_period\n",
    "df.reservation_status_date_period"
   ]
  },
  {
   "cell_type": "code",
   "execution_count": 51,
   "metadata": {},
   "outputs": [
    {
     "data": {
      "text/plain": [
       "0         2015-07-31 14:50\n",
       "1         2015-07-31 14:50\n",
       "2         2015-08-01 14:50\n",
       "3         2015-08-01 14:50\n",
       "4         2015-08-02 14:50\n",
       "                ...       \n",
       "119385    2017-10-06 14:50\n",
       "119386    2017-10-07 14:50\n",
       "119387    2017-10-07 14:50\n",
       "119388    2017-10-07 14:50\n",
       "119389    2017-10-07 14:50\n",
       "Name: reservation_status_date_period, Length: 119390, dtype: period[T]"
      ]
     },
     "execution_count": 51,
     "metadata": {},
     "output_type": "execute_result"
    }
   ],
   "source": [
    "# обавить timedelta равную 55 минут к каждому элементу столбца reservation_status_date_period\n",
    "df.reservation_status_date_period = df.reservation_status_date_period + pd.Timedelta(\"55 minutes\")\n",
    "# отобразить столбец reservation_status_date_period\n",
    "df.reservation_status_date_period "
   ]
  },
  {
   "cell_type": "code",
   "execution_count": null,
   "metadata": {},
   "outputs": [],
   "source": []
  }
 ],
 "metadata": {
  "kernelspec": {
   "display_name": "Python [conda env:.conda-levelup_ds] *",
   "language": "python",
   "name": "conda-env-.conda-levelup_ds-py"
  },
  "language_info": {
   "codemirror_mode": {
    "name": "ipython",
    "version": 3
   },
   "file_extension": ".py",
   "mimetype": "text/x-python",
   "name": "python",
   "nbconvert_exporter": "python",
   "pygments_lexer": "ipython3",
   "version": "3.8.5"
  },
  "toc-autonumbering": true,
  "toc-showmarkdowntxt": false
 },
 "nbformat": 4,
 "nbformat_minor": 4
}
