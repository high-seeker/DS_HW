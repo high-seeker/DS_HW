{
 "cells": [
  {
   "cell_type": "markdown",
   "metadata": {},
   "source": [
    "# Домашнее задание по теме: Регрессия (линейная/полиномиальная)"
   ]
  },
  {
   "cell_type": "markdown",
   "metadata": {},
   "source": [
    "## Подготовка окружения"
   ]
  },
  {
   "cell_type": "code",
   "execution_count": 1,
   "metadata": {
    "collapsed": false,
    "jupyter": {
     "outputs_hidden": false
    },
    "pycharm": {
     "name": "#%%\n"
    }
   },
   "outputs": [],
   "source": [
    "# ВНИМАНИЕ: необходимо удостовериться, что виртуальная среда выбрана правильно!\n",
    "\n",
    "# Для MacOS/Ubuntu\n",
    "# !which pip\n",
    "\n",
    "# Для Windows\n",
    "# !where pip"
   ]
  },
  {
   "cell_type": "code",
   "execution_count": 2,
   "metadata": {
    "collapsed": false,
    "jupyter": {
     "outputs_hidden": false
    },
    "pycharm": {
     "name": "#%%\n"
    }
   },
   "outputs": [],
   "source": [
    "# !conda install pandas matplotlib numpy seaborn scikit-learn -y"
   ]
  },
  {
   "cell_type": "markdown",
   "metadata": {},
   "source": [
    "## **ВНИМАНИЕ**\n",
    "\n",
    "- **Задания описаны кратко, только самое необходимое, в основном только идеи и подсказки. Это творческая работа.**\n",
    "\n",
    "- Для выполнения заданий можно использовать любые удобные способы, если в комментариях к заданию не указан конкретный метод. \n",
    "\n",
    "- Желательно использовать максимум пройденной информации или более продвинутые способы (если нашли самостоятельно).\n",
    "\n",
    "- Желательно писать свои идеи/мысли по поводу методов/результатов.\n",
    "\n",
    "- В строке \"Подсказка\" могут быть перечислены какие-то методы, которыми можно воспользоваться, но это не обязательно, так как это только один из множества вариантов (не факт, что лучший).\n",
    "\n",
    "- Можно использовать `Pipeline`, но не обязательно.\n",
    "\n",
    "- Графики можно рисовать любым способом / цветом и т.п. Главное, чтобы было понятно, что там изображено.\n",
    "\n",
    "- При выполнении задания необходимо понимать, что значит каждое слово (на английском). Если значение слова непонятно, то необходимо разобраться с его значением самостоятельно. Пожалуйста, будьте внимательны, перепроверяйте значения слов, если не уверены."
   ]
  },
  {
   "cell_type": "markdown",
   "metadata": {},
   "source": [
    "## Импорт необходимых пакетов"
   ]
  },
  {
   "cell_type": "code",
   "execution_count": 1,
   "metadata": {},
   "outputs": [],
   "source": [
    "import numpy as np\n",
    "import pandas as pd\n",
    "import matplotlib\n",
    "import matplotlib.pyplot as plt\n",
    "import seaborn as sns\n",
    "import sklearn\n",
    "from sklearn.metrics import r2_score\n",
    "from sklearn.metrics import mean_squared_error\n"
   ]
  },
  {
   "cell_type": "markdown",
   "metadata": {},
   "source": [
    "## Загрузка данных\n",
    "\n",
    "[Источник (Medical Cost Personal Datasets)](https://www.kaggle.com/mirichoi0218/insurance)"
   ]
  },
  {
   "cell_type": "code",
   "execution_count": 168,
   "metadata": {},
   "outputs": [
    {
     "data": {
      "text/html": [
       "<div>\n",
       "<style scoped>\n",
       "    .dataframe tbody tr th:only-of-type {\n",
       "        vertical-align: middle;\n",
       "    }\n",
       "\n",
       "    .dataframe tbody tr th {\n",
       "        vertical-align: top;\n",
       "    }\n",
       "\n",
       "    .dataframe thead th {\n",
       "        text-align: right;\n",
       "    }\n",
       "</style>\n",
       "<table border=\"1\" class=\"dataframe\">\n",
       "  <thead>\n",
       "    <tr style=\"text-align: right;\">\n",
       "      <th></th>\n",
       "      <th>age</th>\n",
       "      <th>sex</th>\n",
       "      <th>bmi</th>\n",
       "      <th>children</th>\n",
       "      <th>smoker</th>\n",
       "      <th>region</th>\n",
       "      <th>charges</th>\n",
       "    </tr>\n",
       "  </thead>\n",
       "  <tbody>\n",
       "    <tr>\n",
       "      <th>0</th>\n",
       "      <td>19</td>\n",
       "      <td>female</td>\n",
       "      <td>27.900</td>\n",
       "      <td>0</td>\n",
       "      <td>yes</td>\n",
       "      <td>southwest</td>\n",
       "      <td>16884.92400</td>\n",
       "    </tr>\n",
       "    <tr>\n",
       "      <th>1</th>\n",
       "      <td>18</td>\n",
       "      <td>male</td>\n",
       "      <td>33.770</td>\n",
       "      <td>1</td>\n",
       "      <td>no</td>\n",
       "      <td>southeast</td>\n",
       "      <td>1725.55230</td>\n",
       "    </tr>\n",
       "    <tr>\n",
       "      <th>2</th>\n",
       "      <td>28</td>\n",
       "      <td>male</td>\n",
       "      <td>33.000</td>\n",
       "      <td>3</td>\n",
       "      <td>no</td>\n",
       "      <td>southeast</td>\n",
       "      <td>4449.46200</td>\n",
       "    </tr>\n",
       "    <tr>\n",
       "      <th>3</th>\n",
       "      <td>33</td>\n",
       "      <td>male</td>\n",
       "      <td>22.705</td>\n",
       "      <td>0</td>\n",
       "      <td>no</td>\n",
       "      <td>northwest</td>\n",
       "      <td>21984.47061</td>\n",
       "    </tr>\n",
       "    <tr>\n",
       "      <th>4</th>\n",
       "      <td>32</td>\n",
       "      <td>male</td>\n",
       "      <td>28.880</td>\n",
       "      <td>0</td>\n",
       "      <td>no</td>\n",
       "      <td>northwest</td>\n",
       "      <td>3866.85520</td>\n",
       "    </tr>\n",
       "    <tr>\n",
       "      <th>...</th>\n",
       "      <td>...</td>\n",
       "      <td>...</td>\n",
       "      <td>...</td>\n",
       "      <td>...</td>\n",
       "      <td>...</td>\n",
       "      <td>...</td>\n",
       "      <td>...</td>\n",
       "    </tr>\n",
       "    <tr>\n",
       "      <th>1333</th>\n",
       "      <td>50</td>\n",
       "      <td>male</td>\n",
       "      <td>30.970</td>\n",
       "      <td>3</td>\n",
       "      <td>no</td>\n",
       "      <td>northwest</td>\n",
       "      <td>10600.54830</td>\n",
       "    </tr>\n",
       "    <tr>\n",
       "      <th>1334</th>\n",
       "      <td>18</td>\n",
       "      <td>female</td>\n",
       "      <td>31.920</td>\n",
       "      <td>0</td>\n",
       "      <td>no</td>\n",
       "      <td>northeast</td>\n",
       "      <td>2205.98080</td>\n",
       "    </tr>\n",
       "    <tr>\n",
       "      <th>1335</th>\n",
       "      <td>18</td>\n",
       "      <td>female</td>\n",
       "      <td>36.850</td>\n",
       "      <td>0</td>\n",
       "      <td>no</td>\n",
       "      <td>southeast</td>\n",
       "      <td>1629.83350</td>\n",
       "    </tr>\n",
       "    <tr>\n",
       "      <th>1336</th>\n",
       "      <td>21</td>\n",
       "      <td>female</td>\n",
       "      <td>25.800</td>\n",
       "      <td>0</td>\n",
       "      <td>no</td>\n",
       "      <td>southwest</td>\n",
       "      <td>2007.94500</td>\n",
       "    </tr>\n",
       "    <tr>\n",
       "      <th>1337</th>\n",
       "      <td>61</td>\n",
       "      <td>female</td>\n",
       "      <td>29.070</td>\n",
       "      <td>0</td>\n",
       "      <td>yes</td>\n",
       "      <td>northwest</td>\n",
       "      <td>29141.36030</td>\n",
       "    </tr>\n",
       "  </tbody>\n",
       "</table>\n",
       "<p>1338 rows × 7 columns</p>\n",
       "</div>"
      ],
      "text/plain": [
       "      age     sex     bmi  children smoker     region      charges\n",
       "0      19  female  27.900         0    yes  southwest  16884.92400\n",
       "1      18    male  33.770         1     no  southeast   1725.55230\n",
       "2      28    male  33.000         3     no  southeast   4449.46200\n",
       "3      33    male  22.705         0     no  northwest  21984.47061\n",
       "4      32    male  28.880         0     no  northwest   3866.85520\n",
       "...   ...     ...     ...       ...    ...        ...          ...\n",
       "1333   50    male  30.970         3     no  northwest  10600.54830\n",
       "1334   18  female  31.920         0     no  northeast   2205.98080\n",
       "1335   18  female  36.850         0     no  southeast   1629.83350\n",
       "1336   21  female  25.800         0     no  southwest   2007.94500\n",
       "1337   61  female  29.070         0    yes  northwest  29141.36030\n",
       "\n",
       "[1338 rows x 7 columns]"
      ]
     },
     "execution_count": 168,
     "metadata": {},
     "output_type": "execute_result"
    }
   ],
   "source": [
    "df = pd.read_csv(\"insurance.csv\")\n",
    "df"
   ]
  },
  {
   "cell_type": "markdown",
   "metadata": {},
   "source": [
    "## Преобразование типов\n",
    "\n",
    "Привести в порядок типы данных. В результате не должно быть типа `object`."
   ]
  },
  {
   "cell_type": "code",
   "execution_count": 169,
   "metadata": {},
   "outputs": [
    {
     "name": "stdout",
     "output_type": "stream",
     "text": [
      "<class 'pandas.core.frame.DataFrame'>\n",
      "RangeIndex: 1338 entries, 0 to 1337\n",
      "Data columns (total 10 columns):\n",
      " #   Column            Non-Null Count  Dtype  \n",
      "---  ------            --------------  -----  \n",
      " 0   age               1338 non-null   int64  \n",
      " 1   bmi               1338 non-null   float64\n",
      " 2   children          1338 non-null   int64  \n",
      " 3   charges           1338 non-null   float64\n",
      " 4   is_smoker         1338 non-null   bool   \n",
      " 5   is_male           1338 non-null   bool   \n",
      " 6   region_northeast  1338 non-null   uint8  \n",
      " 7   region_northwest  1338 non-null   uint8  \n",
      " 8   region_southeast  1338 non-null   uint8  \n",
      " 9   region_southwest  1338 non-null   uint8  \n",
      "dtypes: bool(2), float64(2), int64(2), uint8(4)\n",
      "memory usage: 49.8 KB\n"
     ]
    }
   ],
   "source": [
    "df_new = df\n",
    "df_new[\"is_smoker\"] = df.smoker.map({'yes': True, 'no': False})\n",
    "df_new[\"is_male\"] = df.sex.map({'male': True, 'female': False})\n",
    "dummies = pd.get_dummies(df[['region']])\n",
    "df_new = df.join(dummies)\n",
    "\n",
    "df_new.drop(['smoker','sex','region'], axis = 1, inplace=True)\n",
    "df_new.info()"
   ]
  },
  {
   "cell_type": "markdown",
   "metadata": {},
   "source": [
    "## Разделить на train/test\n",
    "\n",
    "- Разделить данные на `y` и `X`. \n",
    "- `y` - это колонка `charges`.\n",
    "- Разделить данные на train / test.\n",
    "- **В дальнейшем при анализе использовать строго `train` данные и не подсматривать в `test`.**"
   ]
  },
  {
   "cell_type": "code",
   "execution_count": 170,
   "metadata": {},
   "outputs": [],
   "source": [
    "from sklearn.model_selection import train_test_split\n",
    "\n",
    "y = df_new[['charges']].copy()\n",
    "X = df_new[['is_smoker']].copy()\n",
    "\n",
    "X_train, X_test, y_train, y_test = train_test_split(X, y, test_size=0.33, random_state=42)"
   ]
  },
  {
   "cell_type": "markdown",
   "metadata": {},
   "source": [
    "## Выбросы\n",
    "\n",
    "- Есть ли выбросы? Каково распределение данных?\n",
    "    - `hist`\n",
    "    - `kde`\n",
    "    - `boxplot`\n",
    "- Нужно ли с этим что-то делать?"
   ]
  },
  {
   "cell_type": "code",
   "execution_count": 171,
   "metadata": {},
   "outputs": [
    {
     "data": {
      "text/plain": [
       "<AxesSubplot:>"
      ]
     },
     "execution_count": 171,
     "metadata": {},
     "output_type": "execute_result"
    },
    {
     "data": {
      "image/png": "[encoded data removed]",
      "text/plain": [
       "<Figure size 432x288 with 1 Axes>"
      ]
     },
     "metadata": {
      "needs_background": "light"
     },
     "output_type": "display_data"
    }
   ],
   "source": [
    "import scipy\n",
    "from scipy import stats\n",
    "\n",
    "df_train = X_train.join(y_train)\n",
    "charges_with = df_train['charges']         \n",
    "        \n",
    "z = stats.zscore(charges_with)\n",
    "z_abs = np.abs(z)\n",
    "z_threshold = 3\n",
    "charges_without_z = charges_with[z_abs < z_threshold]\n",
    "charges_without_z\n",
    "\n",
    "df_train['charges_new'] = charges_without_z \n",
    "df_train.dropna(inplace=True)\n",
    "\n",
    "X_train = pd.DataFrame(df_train.is_smoker)\n",
    "y_train = pd.DataFrame(df_train.charges)\n",
    "\n",
    "len(charges_with) - len(charges_without_iqr)\n",
    "sns.boxplot(data=[charges_with, charges_without_iqr], orient='h')"
   ]
  },
  {
   "cell_type": "markdown",
   "metadata": {},
   "source": [
    "## Анализ корреляций\n",
    "\n",
    "- Проверить нет ли мультиколлинеарности.\n",
    "- Если есть, то нужно ли что-то с этим делать?\n",
    "\n",
    "Подсказка: в `sns.heatmap` можно указать параметры `vmin`, `vmax` для более адекватного распределения цвета."
   ]
  },
  {
   "cell_type": "code",
   "execution_count": 172,
   "metadata": {},
   "outputs": [
    {
     "data": {
      "text/plain": [
       "<AxesSubplot:>"
      ]
     },
     "execution_count": 172,
     "metadata": {},
     "output_type": "execute_result"
    },
    {
     "data": {
      "image/png": "[encoded data removed]",
      "text/plain": [
       "<Figure size 432x288 with 2 Axes>"
      ]
     },
     "metadata": {
      "needs_background": "light"
     },
     "output_type": "display_data"
    }
   ],
   "source": [
    "corr = df_new.corr()\n",
    "sns.heatmap(corr, \n",
    "            cmap=\"Greens\", \n",
    "            annot=True, \n",
    "            annot_kws={\"size\": 10}, \n",
    "            fmt=\"1.2f\")\n",
    "\n",
    "#Есть сильная зависимость между КУРЕНИЕМ и СУММОЙ СТРАХОВКИ"
   ]
  },
  {
   "cell_type": "markdown",
   "metadata": {},
   "source": [
    "## Простая линейная регрессия\n",
    "\n",
    "Пока что используется только **один признак**. Для этого в метод `fit` в качестве `X` можно передать `X_train[[col_name]]`, аналогично с тестовыми данными.\n",
    "\n",
    "- Если необходимо, то использовать методы feature engineering. \n",
    "- Помнить о том, что может быть полезна нормализация/стандартизация.\n",
    "- Обучить модель простой линейной регрессии.\n",
    "- Проанализировать результаты (различные метрики). Написать выводы/идеи.\n",
    "- Нарисовать график.\n",
    "\n",
    "Подсказка: если не используется `Pipeline`, то важно не забыть применить все преобразования, которые были выполнены над трейновыми данными, к тестовым данным."
   ]
  },
  {
   "cell_type": "code",
   "execution_count": 173,
   "metadata": {},
   "outputs": [
    {
     "name": "stdout",
     "output_type": "stream",
     "text": [
      "Coefficients:  [[22383.10397711]]\n",
      "Intercept:  [8510.52765284]\n",
      "R2: 0.605262978967557\n",
      "MSE: 53153149.74206293\n",
      "Variance score: 0.6367164576847731\n",
      "Residual sum of squares: charges    5.323726e+07\n",
      "dtype: float64\n",
      "R2 (train): 0.605262978967557\n",
      "R2 (test): 0.6367164576847731\n",
      "MSE (train): 53153149.74206293\n",
      "MSE (test): 53237261.706976816\n"
     ]
    },
    {
     "data": {
      "image/png": "[encoded data removed]",
      "text/plain": [
       "<Figure size 432x288 with 1 Axes>"
      ]
     },
     "metadata": {
      "needs_background": "light"
     },
     "output_type": "display_data"
    }
   ],
   "source": [
    "# импортировать из пакета с моделями модель линейной регрессии\n",
    "from sklearn import linear_model\n",
    "from sklearn.model_selection import train_test_split\n",
    "\n",
    "# создать объект линейной регрессии\n",
    "simple_regr = linear_model.LinearRegression()\n",
    "\n",
    "# обучить модель\n",
    "simple_regr.fit(X_train, y_train)\n",
    "\n",
    "# вывести результаты обучения\n",
    "print('Coefficients: ', simple_regr.coef_)\n",
    "print('Intercept: ',simple_regr.intercept_)\n",
    "\n",
    "y_train_predicted = simple_regr.predict(X_train)\n",
    "print(f'R2: {r2_score(y_train, y_train_predicted)}')\n",
    "print(f\"MSE: {mean_squared_error(y_train, y_train_predicted, squared=True)}\")\n",
    "\n",
    "plt.scatter(X_train, y_train,  color='blue')\n",
    "plt.scatter(X_test, y_test,  color='yellow', alpha=0.5)\n",
    "\n",
    "plt.plot(X_train, \n",
    "         # simple_regr.predict(X_train[['age']]) =\n",
    "         simple_regr.coef_[0]*X_train + simple_regr.intercept_, \n",
    "         '-g', \n",
    "         linewidth=6)\n",
    "plt.xlabel(\"Is_SMOKER\", fontsize=20)\n",
    "plt.ylabel(\"Charges\", fontsize=20)\n",
    "\n",
    "\n",
    "# использовать обученную модель для предсказания на test выборке\n",
    "y_test_predicted = simple_regr.predict(X_test)\n",
    "\n",
    "y_test_predicted\n",
    "\n",
    "# вывести результаты предсказания\n",
    "print(f'Variance score: {simple_regr.score(X_test, y_test)}')    # Coefficient of determination R^2 of the prediction\n",
    "print(f\"Residual sum of squares: {np.mean((y_test_predicted - y_test) ** 2)}\")    # MSE\n",
    "\n",
    "r2_score(y_true=y_test, y_pred=y_test_predicted)    # эквивалентно simple_regr.score(X_test, y_test)\n",
    "\n",
    "# MSE\n",
    "mean_squared_error(y_true=y_test, y_pred=y_test_predicted, squared=True)   # эквивалентно np.mean((y_test_predicted - y_test) ** 2)\n",
    "\n",
    "print(f'R2 (train): {r2_score(y_train, y_train_predicted)}')\n",
    "print(f'R2 (test): {r2_score(y_test, y_test_predicted)}')\n",
    "\n",
    "print(f\"MSE (train): {mean_squared_error(y_train, y_train_predicted, squared=True)}\")\n",
    "print(f\"MSE (test): {mean_squared_error(y_test, y_test_predicted, squared=True)}\")\n"
   ]
  },
  {
   "cell_type": "markdown",
   "metadata": {},
   "source": [
    "## Множественная линейная регрессия\n",
    "\n",
    "Можно использовать любое количество признаков.\n",
    "\n",
    "- Если необходимо, то использовать методы feature engineering.\n",
    "- Помнить о том, что может быть полезна нормализация/стандартизация.\n",
    "- Обучить модель линейной регрессии.\n",
    "- Проанализировать результаты (различные метрики).\n",
    "\n",
    "Подсказка: если не используется `Pipeline`, то важно не забыть применить все преобразования, которые были выполнены над трейновыми данными, к тестовым данным."
   ]
  },
  {
   "cell_type": "code",
   "execution_count": 201,
   "metadata": {},
   "outputs": [
    {
     "name": "stdout",
     "output_type": "stream",
     "text": [
      "Coefficients:  [[23700.98328681   261.56839546   347.09728999   371.76216879\n",
      "    121.12368626   507.5006912    167.88229534  -378.99888994\n",
      "   -296.38409659]]\n",
      "Intercept:  [-12933.71482887]\n",
      "Variance score: 0.7605492639270062\n",
      "Residual sum of squares: charges    3.509023e+07\n",
      "dtype: float64\n",
      "R2 (train): 0.7456141330086122\n",
      "R2 (test): 0.7605492639270062\n",
      "MSE (train): 37268977.76686481\n",
      "MSE (test): 35090225.72562571\n"
     ]
    }
   ],
   "source": [
    "from sklearn import linear_model\n",
    "from sklearn.model_selection import train_test_split\n",
    "\n",
    "y = df_new[['charges']].copy()\n",
    "X = df_new[['is_smoker','age','bmi','children','is_male','region_northeast','region_northwest','region_southeast','region_southwest']].copy()\n",
    "#X = df_new[['is_smoker','age','bmi','children','is_male']].copy()\n",
    "\n",
    "X_train, X_test, y_train, y_test = train_test_split(X, y, test_size=0.33, random_state=42)\n",
    "\n",
    "simple_regr = linear_model.LinearRegression()\n",
    "simple_regr.fit(X_train, y_train)\n",
    "\n",
    "print('Coefficients: ', simple_regr.coef_)\n",
    "print('Intercept: ',simple_regr.intercept_)\n",
    "\n",
    "y_train_predicted = simple_regr.predict(X_train)\n",
    "y_test_predicted = simple_regr.predict(X_test)\n",
    "\n",
    "print(f'Variance score: {simple_regr.score(X_test, y_test)}')  \n",
    "print(f\"Residual sum of squares: {np.mean((y_test_predicted - y_test) ** 2)}\")   \n",
    "\n",
    "r2_score(y_true=y_test, y_pred=y_test_predicted) \n",
    "\n",
    "mean_squared_error(y_true=y_test, y_pred=y_test_predicted, squared=True)\n",
    "\n",
    "print(f'R2 (train): {r2_score(y_train, y_train_predicted)}')\n",
    "print(f'R2 (test): {r2_score(y_test, y_test_predicted)}')\n",
    "\n",
    "print(f\"MSE (train): {mean_squared_error(y_train, y_train_predicted, squared=True)}\")\n",
    "print(f\"MSE (test): {mean_squared_error(y_test, y_test_predicted, squared=True)}\")"
   ]
  },
  {
   "cell_type": "markdown",
   "metadata": {},
   "source": [
    "## Полиномиальная множественная регрессия\n",
    "\n",
    "Можно использовать любое количество признаков.\n",
    "Попробовать несколько различных степеней полинома.\n",
    "\n",
    "- Если необходимо, то использовать методы feature engineering.\n",
    "- Помнить о том, что может быть полезна нормализация/стандартизация.\n",
    "- Обучить модель линейной регрессии.\n",
    "- Проанализировать результаты (различные метрики).\n",
    "\n",
    "Подсказка: \n",
    "- Если не используется `Pipeline`, то важно не забыть применить все преобразования, которые были выполнены над трейновыми данными, к тестовым данным.\n",
    "- Перебор нескольких степеней полинома можно сделать в цикле и аккуратно вывести метрики для каждого варианта."
   ]
  },
  {
   "cell_type": "code",
   "execution_count": 202,
   "metadata": {},
   "outputs": [
    {
     "name": "stdout",
     "output_type": "stream",
     "text": [
      "Coefficients:  [[ 8.97445789e+13 -8.76313082e+03 -4.89602824e+01  5.29938233e+02\n",
      "   2.11012464e+03 -2.87259270e+01 -9.69020492e+02 -3.36772549e+02\n",
      "   7.21196716e+02  5.84596326e+02 -8.76313082e+03 -6.91673890e+00\n",
      "   1.45964673e+03 -5.41679343e+02 -6.61990268e+01 -1.47065138e+03\n",
      "  -3.04237496e+03 -3.09588700e+03 -1.15421747e+03  3.86177069e+00\n",
      "   7.90233771e-01 -9.50651161e+00  4.87438242e+00 -3.38179093e+01\n",
      "  -1.55446268e+01 -6.10214705e+00  6.50440081e+00 -1.02435482e+01\n",
      "  -1.83518108e+01  7.27462788e+00  2.35841206e+02  1.43897723e+02\n",
      "   7.74909125e+01  7.27083918e+01 -1.87056143e+02 -6.77969766e+02\n",
      "   1.13641127e+02  1.03147993e+03  5.19576357e+02  4.45427223e+02\n",
      "  -2.87259270e+01  1.18378984e+03 -3.58293303e+01  1.56899494e+02\n",
      "  -1.33358594e+03 -9.69020492e+02  0.00000000e+00  0.00000000e+00\n",
      "   0.00000000e+00 -3.36772549e+02  0.00000000e+00  0.00000000e+00\n",
      "   7.21196716e+02  0.00000000e+00  5.84596326e+02]]\n",
      "Intercept:  [-8.97445789e+13]\n",
      "Mean absolute error: 2783.90\n",
      "Residual sum of squares (MSE): 21044714.11\n",
      "R2-score: 0.86\n"
     ]
    }
   ],
   "source": [
    "from sklearn.preprocessing import PolynomialFeatures\n",
    "from sklearn import linear_model\n",
    "from sklearn.metrics import r2_score\n",
    "\n",
    "y = df_new[['charges']].copy()\n",
    "X = df_new[['is_smoker','age','bmi','children','is_male','region_northeast','region_northwest','region_southeast','region_southwest']].copy()\n",
    "#X = df_new[['is_smoker','age','bmi','children','is_male']].copy()\n",
    "\n",
    "X_train, X_test, y_train, y_test = train_test_split(X, y, test_size=0.33, random_state=42)\n",
    "\n",
    "poly = PolynomialFeatures(degree=2)\n",
    "X_train_poly = poly.fit_transform(X_train)\n",
    "X_train_poly\n",
    "\n",
    "poly_regr = linear_model.LinearRegression()\n",
    "poly_regr.fit(X_train_poly, y_train)\n",
    "\n",
    "print('Coefficients: ', poly_regr.coef_)\n",
    "print('Intercept: ', poly_regr.intercept_)\n",
    "\n",
    "X_test_poly = poly.transform(X_test)\n",
    "y_predicted = poly_regr.predict(X_test_poly)\n",
    "\n",
    "print(\"Mean absolute error: %.2f\" % np.mean(np.absolute(y_predicted - y_test)))\n",
    "print(\"Residual sum of squares (MSE): %.2f\" % np.mean((y_predicted - y_test) ** 2))\n",
    "print(\"R2-score: %.2f\" % r2_score(y_true=y_test, y_pred=y_predicted))"
   ]
  },
  {
   "cell_type": "code",
   "execution_count": 203,
   "metadata": {},
   "outputs": [
    {
     "name": "stdout",
     "output_type": "stream",
     "text": [
      "Coefficients:  [[ 4.78704368e-07 -1.51620116e+04 -6.65645851e+02 -2.08484819e+03\n",
      "   3.96624601e+03 -3.34417287e+03  1.17207381e+03  2.25256522e+03\n",
      "  -7.42451061e+02 -2.68218797e+03 -1.51620116e+04  8.18604365e+01\n",
      "   1.49565637e+03  1.48736327e+02  2.62819775e+03 -2.07355481e+02\n",
      "  -9.16531675e+03 -1.78560113e+03 -4.00373824e+03  1.58660391e+01\n",
      "   1.37719825e+01 -1.63531124e+02  2.07165722e+02 -1.81947184e+02\n",
      "  -1.71612577e+02 -1.57984213e+02 -1.54101878e+02  7.20335233e+01\n",
      "   8.82024548e+00  6.43270618e+01 -6.37550154e+02 -7.18936098e+02\n",
      "  -4.76024244e+02 -2.52337692e+02 -7.40901003e+02 -9.83886881e+02\n",
      "   1.83887688e+03  9.32385300e+02  3.09463959e+02  8.85519871e+02\n",
      "  -3.34417287e+03 -1.34456666e+03 -1.05802006e+03  4.83839974e+02\n",
      "  -1.42542613e+03  1.17207381e+03  2.74667400e-10 -6.55518306e-10\n",
      "  -3.90741661e-10  2.25256522e+03  2.14413376e-10 -2.11457518e-10\n",
      "  -7.42451061e+02  1.67119651e-11 -2.68218797e+03 -1.51620116e+04\n",
      "   8.18604365e+01  1.49565637e+03  1.48736327e+02  2.62819775e+03\n",
      "  -2.07355481e+02 -9.16531675e+03 -1.78560113e+03 -4.00373824e+03\n",
      "  -4.64915190e+00  3.79380257e+00 -5.69574830e+00  1.22773700e+02\n",
      "  -3.93175077e+01  7.86834014e+01  9.10810367e+00  3.33864391e+01\n",
      "  -2.59995330e+01 -4.38567420e+01 -4.11534359e+02  8.75376917e+01\n",
      "   8.84015350e+02  1.23325696e+02  4.00777631e+02  5.66279924e+02\n",
      "  -1.23812523e+03 -4.37930693e+02  1.39597334e+03 -3.97227096e+02\n",
      "  -4.12079220e+02  2.62819775e+03  6.24412323e+02 -5.42678165e+03\n",
      "   5.57434880e+03  1.85621828e+03 -2.07355481e+02 -1.81898940e-12\n",
      "  -5.45696821e-12  3.63797881e-12 -9.16531675e+03  0.00000000e+00\n",
      "  -1.09139364e-11 -1.78560113e+03  2.72848411e-12 -4.00373824e+03\n",
      "  -8.73003239e-02 -1.50845168e-01  2.15950597e+00 -2.68774711e+00\n",
      "   3.55677311e+00  4.70394820e+00  3.78017021e+00  3.82514788e+00\n",
      "  -1.95755716e-02  5.61846821e-02 -8.43897473e+00  5.28967025e+00\n",
      "   5.92670517e-01  4.09135091e+00  3.79829072e+00  9.55830001e+00\n",
      "  -9.68450653e-01 -5.63166662e+01 -5.37301627e+01 -2.54742723e+01\n",
      "  -2.80100227e+01  2.07165722e+02  4.65943412e+01  1.16707776e+02\n",
      "   8.66627952e+00  3.51973249e+01 -1.81947184e+02  0.00000000e+00\n",
      "   0.00000000e+00  0.00000000e+00 -1.71612577e+02  0.00000000e+00\n",
      "   0.00000000e+00 -1.57984213e+02  0.00000000e+00 -1.54101878e+02\n",
      "  -9.59220078e-01  8.90264049e-03  4.60141461e+00  2.25181119e+01\n",
      "   2.52365719e+01  1.62760968e+01  8.00274264e+00 -4.63635959e+00\n",
      "   5.07815807e+01 -2.49364508e+00  3.59941975e+01 -4.15731729e+00\n",
      "  -2.05229897e+01  6.43270618e+01  3.18906958e+01 -1.67226385e+00\n",
      "  -4.68659036e+01  8.09745335e+01 -6.37550154e+02  0.00000000e+00\n",
      "   0.00000000e+00  0.00000000e+00 -7.18936098e+02  0.00000000e+00\n",
      "   0.00000000e+00 -4.76024244e+02  0.00000000e+00 -2.52337692e+02\n",
      "   8.37228002e+01  1.94694133e+02 -4.85596733e+02 -2.25332983e+02\n",
      "   6.43058367e+01 -9.42771236e+01 -9.83886881e+02  2.40316611e+02\n",
      "  -2.75998194e+02 -3.67183204e+02 -5.81022094e+02  1.83887688e+03\n",
      "   0.00000000e+00  0.00000000e+00  0.00000000e+00  9.32385300e+02\n",
      "   0.00000000e+00  0.00000000e+00  3.09463959e+02  0.00000000e+00\n",
      "   8.85519871e+02 -3.34417287e+03 -1.34456666e+03 -1.05802006e+03\n",
      "   4.83839974e+02 -1.42542613e+03 -1.34456666e+03  0.00000000e+00\n",
      "   0.00000000e+00  0.00000000e+00 -1.05802006e+03  0.00000000e+00\n",
      "   0.00000000e+00  4.83839974e+02  0.00000000e+00 -1.42542613e+03\n",
      "   1.17207381e+03  0.00000000e+00  0.00000000e+00  0.00000000e+00\n",
      "   0.00000000e+00  0.00000000e+00  0.00000000e+00  0.00000000e+00\n",
      "   0.00000000e+00  0.00000000e+00  2.25256522e+03  0.00000000e+00\n",
      "   0.00000000e+00  0.00000000e+00  0.00000000e+00  0.00000000e+00\n",
      "  -7.42451061e+02  0.00000000e+00  0.00000000e+00 -2.68218797e+03]]\n",
      "Intercept:  [46695.19408641]\n",
      "Mean absolute error: 2993.12\n",
      "Residual sum of squares (MSE): 24730395.92\n",
      "R2-score: 0.83\n"
     ]
    }
   ],
   "source": [
    "poly3 = PolynomialFeatures(degree=3)\n",
    "X_train_poly3 = poly3.fit_transform(X_train)\n",
    "cubic_regr = linear_model.LinearRegression()\n",
    "y3_train = cubic_regr.fit(X_train_poly3, y_train)\n",
    "\n",
    "print ('Coefficients: ', cubic_regr.coef_)\n",
    "print ('Intercept: ',cubic_regr.intercept_)\n",
    "\n",
    "test_x_poly3 = poly3.transform(X_test)\n",
    "y3_predicted = cubic_regr.predict(test_x_poly3)\n",
    "\n",
    "print(\"Mean absolute error: %.2f\" % np.mean(np.absolute(y3_predicted - y_test)))\n",
    "print(\"Residual sum of squares (MSE): %.2f\" % np.mean((y3_predicted - y_test) ** 2))\n",
    "print(\"R2-score: %.2f\" % r2_score(y_true=y_test, y_pred=y3_predicted))"
   ]
  },
  {
   "cell_type": "code",
   "execution_count": null,
   "metadata": {},
   "outputs": [],
   "source": []
  }
 ],
 "metadata": {
  "kernelspec": {
   "display_name": "Python [conda env:LevelUP]",
   "language": "python",
   "name": "conda-env-LevelUP-py"
  },
  "language_info": {
   "codemirror_mode": {
    "name": "ipython",
    "version": 3
   },
   "file_extension": ".py",
   "mimetype": "text/x-python",
   "name": "python",
   "nbconvert_exporter": "python",
   "pygments_lexer": "ipython3",
   "version": "3.9.5"
  }
 },
 "nbformat": 4,
 "nbformat_minor": 4
}
