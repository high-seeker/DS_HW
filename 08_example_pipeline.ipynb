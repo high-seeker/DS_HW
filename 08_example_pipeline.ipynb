{
 "cells": [
  {
   "cell_type": "markdown",
   "metadata": {},
   "source": [
    "# Домашнее задание по теме: Регрессия (линейная/полиномиальная) с использованием `Pipeline`"
   ]
  },
  {
   "cell_type": "markdown",
   "metadata": {},
   "source": [
    "## Подготовка окружения"
   ]
  },
  {
   "cell_type": "code",
   "execution_count": null,
   "metadata": {
    "collapsed": false,
    "jupyter": {
     "outputs_hidden": false
    },
    "pycharm": {
     "name": "#%%\n"
    }
   },
   "outputs": [],
   "source": [
    "# ВНИМАНИЕ: необходимо удостовериться, что виртуальная среда выбрана правильно!\n",
    "\n",
    "# Для MacOS/Ubuntu\n",
    "# !which pip\n",
    "\n",
    "# Для Windows\n",
    "# !where pip"
   ]
  },
  {
   "cell_type": "code",
   "execution_count": null,
   "metadata": {
    "collapsed": false,
    "jupyter": {
     "outputs_hidden": false
    },
    "pycharm": {
     "name": "#%%\n"
    }
   },
   "outputs": [],
   "source": [
    "# !conda install pandas matplotlib numpy seaborn scikit-learn -y"
   ]
  },
  {
   "cell_type": "markdown",
   "metadata": {},
   "source": [
    "## **ВНИМАНИЕ**\n",
    "\n",
    "- **Задания описаны кратко, только самое необходимое, в основном только идеи и подсказки. Это творческая работа.**\n",
    "\n",
    "- Для выполнения заданий можно использовать любые удобные способы, если в комментариях к заданию не указан конкретный метод. \n",
    "\n",
    "- Желательно использовать максимум пройденной информации или более продвинутые способы (если нашли самостоятельно).\n",
    "\n",
    "- Желательно писать свои идеи/мысли по поводу методов/результатов.\n",
    "\n",
    "- В строке \"Подсказка\" могут быть перечислены какие-то методы, которыми можно воспользоваться, но это не обязательно, так как это только один из множества вариантов (не факт, что лучший).\n",
    "\n",
    "- Обязательно **использовать `Pipeline`**.\n",
    "\n",
    "- Графики можно рисовать любым способом / цветом и т.п. Главное, чтобы было понятно, что там изображено.\n",
    "\n",
    "- При выполнении задания необходимо понимать, что значит каждое слово (на английском). Если значение слова непонятно, то необходимо разобраться с его значением самостоятельно. Пожалуйста, будьте внимательны, перепроверяйте значения слов, если не уверены."
   ]
  },
  {
   "cell_type": "markdown",
   "metadata": {},
   "source": [
    "## Импорт необходимых пакетов"
   ]
  },
  {
   "cell_type": "code",
   "execution_count": 8,
   "metadata": {
    "collapsed": false,
    "jupyter": {
     "outputs_hidden": false
    },
    "pycharm": {
     "name": "#%%\n"
    }
   },
   "outputs": [],
   "source": [
    "import numpy as np\n",
    "import pandas as pd\n",
    "import matplotlib\n",
    "import matplotlib.pyplot as plt\n",
    "import seaborn as sns\n",
    "import sklearn\n",
    "from sklearn.metrics import r2_score\n",
    "from sklearn.metrics import mean_squared_error\n",
    "import scipy\n",
    "from scipy import stats"
   ]
  },
  {
   "cell_type": "markdown",
   "metadata": {},
   "source": [
    "## Загрузка данных\n",
    "\n",
    "[Источник (Medical Cost Personal Datasets)](https://www.kaggle.com/mirichoi0218/insurance)"
   ]
  },
  {
   "cell_type": "code",
   "execution_count": 9,
   "metadata": {
    "collapsed": false,
    "jupyter": {
     "outputs_hidden": false
    },
    "pycharm": {
     "name": "#%%\n"
    }
   },
   "outputs": [
    {
     "data": {
      "text/html": [
       "<div>\n",
       "<style scoped>\n",
       "    .dataframe tbody tr th:only-of-type {\n",
       "        vertical-align: middle;\n",
       "    }\n",
       "\n",
       "    .dataframe tbody tr th {\n",
       "        vertical-align: top;\n",
       "    }\n",
       "\n",
       "    .dataframe thead th {\n",
       "        text-align: right;\n",
       "    }\n",
       "</style>\n",
       "<table border=\"1\" class=\"dataframe\">\n",
       "  <thead>\n",
       "    <tr style=\"text-align: right;\">\n",
       "      <th></th>\n",
       "      <th>age</th>\n",
       "      <th>sex</th>\n",
       "      <th>bmi</th>\n",
       "      <th>children</th>\n",
       "      <th>smoker</th>\n",
       "      <th>region</th>\n",
       "      <th>charges</th>\n",
       "    </tr>\n",
       "  </thead>\n",
       "  <tbody>\n",
       "    <tr>\n",
       "      <th>0</th>\n",
       "      <td>19</td>\n",
       "      <td>female</td>\n",
       "      <td>27.900</td>\n",
       "      <td>0</td>\n",
       "      <td>yes</td>\n",
       "      <td>southwest</td>\n",
       "      <td>16884.92400</td>\n",
       "    </tr>\n",
       "    <tr>\n",
       "      <th>1</th>\n",
       "      <td>18</td>\n",
       "      <td>male</td>\n",
       "      <td>33.770</td>\n",
       "      <td>1</td>\n",
       "      <td>no</td>\n",
       "      <td>southeast</td>\n",
       "      <td>1725.55230</td>\n",
       "    </tr>\n",
       "    <tr>\n",
       "      <th>2</th>\n",
       "      <td>28</td>\n",
       "      <td>male</td>\n",
       "      <td>33.000</td>\n",
       "      <td>3</td>\n",
       "      <td>no</td>\n",
       "      <td>southeast</td>\n",
       "      <td>4449.46200</td>\n",
       "    </tr>\n",
       "    <tr>\n",
       "      <th>3</th>\n",
       "      <td>33</td>\n",
       "      <td>male</td>\n",
       "      <td>22.705</td>\n",
       "      <td>0</td>\n",
       "      <td>no</td>\n",
       "      <td>northwest</td>\n",
       "      <td>21984.47061</td>\n",
       "    </tr>\n",
       "    <tr>\n",
       "      <th>4</th>\n",
       "      <td>32</td>\n",
       "      <td>male</td>\n",
       "      <td>28.880</td>\n",
       "      <td>0</td>\n",
       "      <td>no</td>\n",
       "      <td>northwest</td>\n",
       "      <td>3866.85520</td>\n",
       "    </tr>\n",
       "    <tr>\n",
       "      <th>...</th>\n",
       "      <td>...</td>\n",
       "      <td>...</td>\n",
       "      <td>...</td>\n",
       "      <td>...</td>\n",
       "      <td>...</td>\n",
       "      <td>...</td>\n",
       "      <td>...</td>\n",
       "    </tr>\n",
       "    <tr>\n",
       "      <th>1333</th>\n",
       "      <td>50</td>\n",
       "      <td>male</td>\n",
       "      <td>30.970</td>\n",
       "      <td>3</td>\n",
       "      <td>no</td>\n",
       "      <td>northwest</td>\n",
       "      <td>10600.54830</td>\n",
       "    </tr>\n",
       "    <tr>\n",
       "      <th>1334</th>\n",
       "      <td>18</td>\n",
       "      <td>female</td>\n",
       "      <td>31.920</td>\n",
       "      <td>0</td>\n",
       "      <td>no</td>\n",
       "      <td>northeast</td>\n",
       "      <td>2205.98080</td>\n",
       "    </tr>\n",
       "    <tr>\n",
       "      <th>1335</th>\n",
       "      <td>18</td>\n",
       "      <td>female</td>\n",
       "      <td>36.850</td>\n",
       "      <td>0</td>\n",
       "      <td>no</td>\n",
       "      <td>southeast</td>\n",
       "      <td>1629.83350</td>\n",
       "    </tr>\n",
       "    <tr>\n",
       "      <th>1336</th>\n",
       "      <td>21</td>\n",
       "      <td>female</td>\n",
       "      <td>25.800</td>\n",
       "      <td>0</td>\n",
       "      <td>no</td>\n",
       "      <td>southwest</td>\n",
       "      <td>2007.94500</td>\n",
       "    </tr>\n",
       "    <tr>\n",
       "      <th>1337</th>\n",
       "      <td>61</td>\n",
       "      <td>female</td>\n",
       "      <td>29.070</td>\n",
       "      <td>0</td>\n",
       "      <td>yes</td>\n",
       "      <td>northwest</td>\n",
       "      <td>29141.36030</td>\n",
       "    </tr>\n",
       "  </tbody>\n",
       "</table>\n",
       "<p>1338 rows × 7 columns</p>\n",
       "</div>"
      ],
      "text/plain": [
       "      age     sex     bmi  children smoker     region      charges\n",
       "0      19  female  27.900         0    yes  southwest  16884.92400\n",
       "1      18    male  33.770         1     no  southeast   1725.55230\n",
       "2      28    male  33.000         3     no  southeast   4449.46200\n",
       "3      33    male  22.705         0     no  northwest  21984.47061\n",
       "4      32    male  28.880         0     no  northwest   3866.85520\n",
       "...   ...     ...     ...       ...    ...        ...          ...\n",
       "1333   50    male  30.970         3     no  northwest  10600.54830\n",
       "1334   18  female  31.920         0     no  northeast   2205.98080\n",
       "1335   18  female  36.850         0     no  southeast   1629.83350\n",
       "1336   21  female  25.800         0     no  southwest   2007.94500\n",
       "1337   61  female  29.070         0    yes  northwest  29141.36030\n",
       "\n",
       "[1338 rows x 7 columns]"
      ]
     },
     "execution_count": 9,
     "metadata": {},
     "output_type": "execute_result"
    }
   ],
   "source": [
    "df = pd.read_csv(\"insurance.csv\")\n",
    "df"
   ]
  },
  {
   "cell_type": "markdown",
   "metadata": {},
   "source": [
    "## Преобразование типов\n",
    "\n",
    "Привести в порядок типы данных. В результате не должно быть типа `object`."
   ]
  },
  {
   "cell_type": "code",
   "execution_count": 10,
   "metadata": {
    "collapsed": false,
    "jupyter": {
     "outputs_hidden": false
    },
    "pycharm": {
     "name": "#%%\n"
    }
   },
   "outputs": [
    {
     "name": "stdout",
     "output_type": "stream",
     "text": [
      "<class 'pandas.core.frame.DataFrame'>\n",
      "RangeIndex: 1338 entries, 0 to 1337\n",
      "Data columns (total 10 columns):\n",
      " #   Column            Non-Null Count  Dtype  \n",
      "---  ------            --------------  -----  \n",
      " 0   age               1338 non-null   int64  \n",
      " 1   bmi               1338 non-null   float64\n",
      " 2   children          1338 non-null   int64  \n",
      " 3   charges           1338 non-null   float64\n",
      " 4   is_smoker         1338 non-null   bool   \n",
      " 5   is_male           1338 non-null   bool   \n",
      " 6   region_northeast  1338 non-null   uint8  \n",
      " 7   region_northwest  1338 non-null   uint8  \n",
      " 8   region_southeast  1338 non-null   uint8  \n",
      " 9   region_southwest  1338 non-null   uint8  \n",
      "dtypes: bool(2), float64(2), int64(2), uint8(4)\n",
      "memory usage: 49.8 KB\n"
     ]
    }
   ],
   "source": [
    "df_new = df\n",
    "df_new[\"is_smoker\"] = df.smoker.map({'yes': True, 'no': False})\n",
    "df_new[\"is_male\"] = df.sex.map({'male': True, 'female': False})\n",
    "dummies = pd.get_dummies(df[['region']])\n",
    "df_new = df.join(dummies)\n",
    "\n",
    "df_new.drop(['smoker','sex','region'], axis = 1, inplace=True)\n",
    "df_new.info()"
   ]
  },
  {
   "cell_type": "markdown",
   "metadata": {},
   "source": [
    "## Разделить на train/test\n",
    "\n",
    "- Разделить данные на `y` и `X`. \n",
    "- `y` - это колонка `charges`.\n",
    "- Разделить данные на train / test.\n",
    "- **В дальнейшем при анализе использовать строго `train` данные и не подсматривать в `test`.**"
   ]
  },
  {
   "cell_type": "code",
   "execution_count": 11,
   "metadata": {},
   "outputs": [],
   "source": [
    "from sklearn.model_selection import train_test_split\n",
    "\n",
    "y = df_new[['charges']].copy()\n",
    "X = df_new[['is_smoker']].copy()\n",
    "\n",
    "X_train, X_test, y_train, y_test = train_test_split(X, y, test_size=0.33, random_state=42)"
   ]
  },
  {
   "cell_type": "code",
   "execution_count": 13,
   "metadata": {},
   "outputs": [
    {
     "data": {
      "text/plain": [
       "<AxesSubplot:>"
      ]
     },
     "execution_count": 13,
     "metadata": {},
     "output_type": "execute_result"
    },
    {
     "data": {
      "image/png": "[encoded data removed]",
      "text/plain": [
       "<Figure size 432x288 with 1 Axes>"
      ]
     },
     "metadata": {
      "needs_background": "light"
     },
     "output_type": "display_data"
    }
   ],
   "source": [
    "df_train = X_train.join(y_train)\n",
    "charges_with = df_train['charges']         \n",
    "        \n",
    "z = stats.zscore(charges_with)\n",
    "z_abs = np.abs(z)\n",
    "z_threshold = 3\n",
    "charges_without_z = charges_with[z_abs < z_threshold]\n",
    "charges_without_z\n",
    "\n",
    "df_train['charges_new'] = charges_without_z \n",
    "df_train.dropna(inplace=True)\n",
    "\n",
    "X_train = pd.DataFrame(df_train.is_smoker)\n",
    "y_train = pd.DataFrame(df_train.charges)\n",
    "\n",
    "len(charges_with) - len(charges_without_z)\n",
    "sns.boxplot(data=[charges_with, charges_without_z], orient='h')"
   ]
  },
  {
   "cell_type": "markdown",
   "metadata": {},
   "source": [
    "## Полиномиальная множественная регрессия\n",
    "\n",
    "- Можно использовать любое количество признаков.\n",
    "- Попробовать несколько различных степеней полинома.\n",
    "- Если необходимо, то использовать методы feature engineering.\n",
    "- Помнить о том, что может быть полезна нормализация/стандартизация.\n",
    "- Обучить модель линейной регрессии.\n",
    "- Проанализировать результаты (различные метрики)."
   ]
  },
  {
   "cell_type": "code",
   "execution_count": 14,
   "metadata": {
    "collapsed": false,
    "jupyter": {
     "outputs_hidden": false
    },
    "pycharm": {
     "name": "#%%\n"
    }
   },
   "outputs": [],
   "source": [
    "from sklearn.preprocessing import PolynomialFeatures\n",
    "from sklearn.preprocessing import OrdinalEncoder\n",
    "from sklearn.preprocessing import OneHotEncoder\n",
    "from sklearn.preprocessing import RobustScaler\n",
    "from sklearn.linear_model import LinearRegression\n",
    "from sklearn.compose import ColumnTransformer\n",
    "from sklearn.pipeline import Pipeline\n",
    "from sklearn.preprocessing import FunctionTransformer\n",
    "from sklearn.model_selection import GridSearchCV\n",
    "from sklearn.metrics import r2_score\n",
    "\n",
    "pipeline = Pipeline(steps = [\n",
    "    ('poly', PolynomialFeatures()),\n",
    "    ('model', LinearRegression())\n",
    "])"
   ]
  },
  {
   "cell_type": "code",
   "execution_count": 15,
   "metadata": {},
   "outputs": [
    {
     "name": "stdout",
     "output_type": "stream",
     "text": [
      "Best parameter (CV score=0.575):\n",
      "{'poly__degree': 2}\n"
     ]
    }
   ],
   "source": [
    "\n",
    "param_grid = {\n",
    "    'poly__degree': [1, 2, 3]\n",
    "}\n",
    "model_gcv = GridSearchCV(pipeline, param_grid, n_jobs=-1)\n",
    "model_gcv.fit(X_train, y_train)\n",
    "print(\"Best parameter (CV score=%0.3f):\" % model_gcv.best_score_)\n",
    "print(model_gcv.best_params_)"
   ]
  },
  {
   "cell_type": "code",
   "execution_count": 17,
   "metadata": {},
   "outputs": [
    {
     "data": {
      "text/html": [
       "<style>#sk-75bdb489-32ef-4295-8911-34c1d9361c64 {color: black;background-color: white;}#sk-75bdb489-32ef-4295-8911-34c1d9361c64 pre{padding: 0;}#sk-75bdb489-32ef-4295-8911-34c1d9361c64 div.sk-toggleable {background-color: white;}#sk-75bdb489-32ef-4295-8911-34c1d9361c64 label.sk-toggleable__label {cursor: pointer;display: block;width: 100%;margin-bottom: 0;padding: 0.2em 0.3em;box-sizing: border-box;text-align: center;}#sk-75bdb489-32ef-4295-8911-34c1d9361c64 div.sk-toggleable__content {max-height: 0;max-width: 0;overflow: hidden;text-align: left;background-color: #f0f8ff;}#sk-75bdb489-32ef-4295-8911-34c1d9361c64 div.sk-toggleable__content pre {margin: 0.2em;color: black;border-radius: 0.25em;background-color: #f0f8ff;}#sk-75bdb489-32ef-4295-8911-34c1d9361c64 input.sk-toggleable__control:checked~div.sk-toggleable__content {max-height: 200px;max-width: 100%;overflow: auto;}#sk-75bdb489-32ef-4295-8911-34c1d9361c64 div.sk-estimator input.sk-toggleable__control:checked~label.sk-toggleable__label {background-color: #d4ebff;}#sk-75bdb489-32ef-4295-8911-34c1d9361c64 div.sk-label input.sk-toggleable__control:checked~label.sk-toggleable__label {background-color: #d4ebff;}#sk-75bdb489-32ef-4295-8911-34c1d9361c64 input.sk-hidden--visually {border: 0;clip: rect(1px 1px 1px 1px);clip: rect(1px, 1px, 1px, 1px);height: 1px;margin: -1px;overflow: hidden;padding: 0;position: absolute;width: 1px;}#sk-75bdb489-32ef-4295-8911-34c1d9361c64 div.sk-estimator {font-family: monospace;background-color: #f0f8ff;margin: 0.25em 0.25em;border: 1px dotted black;border-radius: 0.25em;box-sizing: border-box;}#sk-75bdb489-32ef-4295-8911-34c1d9361c64 div.sk-estimator:hover {background-color: #d4ebff;}#sk-75bdb489-32ef-4295-8911-34c1d9361c64 div.sk-parallel-item::after {content: \"\";width: 100%;border-bottom: 1px solid gray;flex-grow: 1;}#sk-75bdb489-32ef-4295-8911-34c1d9361c64 div.sk-label:hover label.sk-toggleable__label {background-color: #d4ebff;}#sk-75bdb489-32ef-4295-8911-34c1d9361c64 div.sk-serial::before {content: \"\";position: absolute;border-left: 1px solid gray;box-sizing: border-box;top: 2em;bottom: 0;left: 50%;}#sk-75bdb489-32ef-4295-8911-34c1d9361c64 div.sk-serial {display: flex;flex-direction: column;align-items: center;background-color: white;}#sk-75bdb489-32ef-4295-8911-34c1d9361c64 div.sk-item {z-index: 1;}#sk-75bdb489-32ef-4295-8911-34c1d9361c64 div.sk-parallel {display: flex;align-items: stretch;justify-content: center;background-color: white;}#sk-75bdb489-32ef-4295-8911-34c1d9361c64 div.sk-parallel-item {display: flex;flex-direction: column;position: relative;background-color: white;}#sk-75bdb489-32ef-4295-8911-34c1d9361c64 div.sk-parallel-item:first-child::after {align-self: flex-end;width: 50%;}#sk-75bdb489-32ef-4295-8911-34c1d9361c64 div.sk-parallel-item:last-child::after {align-self: flex-start;width: 50%;}#sk-75bdb489-32ef-4295-8911-34c1d9361c64 div.sk-parallel-item:only-child::after {width: 0;}#sk-75bdb489-32ef-4295-8911-34c1d9361c64 div.sk-dashed-wrapped {border: 1px dashed gray;margin: 0.2em;box-sizing: border-box;padding-bottom: 0.1em;background-color: white;position: relative;}#sk-75bdb489-32ef-4295-8911-34c1d9361c64 div.sk-label label {font-family: monospace;font-weight: bold;background-color: white;display: inline-block;line-height: 1.2em;}#sk-75bdb489-32ef-4295-8911-34c1d9361c64 div.sk-label-container {position: relative;z-index: 2;text-align: center;}#sk-75bdb489-32ef-4295-8911-34c1d9361c64 div.sk-container {display: inline-block;position: relative;}</style><div id=\"sk-75bdb489-32ef-4295-8911-34c1d9361c64\" class\"sk-top-container\"><div class=\"sk-container\"><div class=\"sk-item sk-dashed-wrapped\"><div class=\"sk-label-container\"><div class=\"sk-label sk-toggleable\"><input class=\"sk-toggleable__control sk-hidden--visually\" id=\"ee623bf9-b37e-4cdb-932b-14dd3a48e22d\" type=\"checkbox\" ><label class=\"sk-toggleable__label\" for=\"ee623bf9-b37e-4cdb-932b-14dd3a48e22d\">Pipeline</label><div class=\"sk-toggleable__content\"><pre>Pipeline(steps=[('poly', PolynomialFeatures()), ('model', LinearRegression())])</pre></div></div></div><div class=\"sk-serial\"><div class=\"sk-item\"><div class=\"sk-estimator sk-toggleable\"><input class=\"sk-toggleable__control sk-hidden--visually\" id=\"add3e2ff-184b-45cf-9f70-8fd40e70b291\" type=\"checkbox\" ><label class=\"sk-toggleable__label\" for=\"add3e2ff-184b-45cf-9f70-8fd40e70b291\">PolynomialFeatures</label><div class=\"sk-toggleable__content\"><pre>PolynomialFeatures()</pre></div></div></div><div class=\"sk-item\"><div class=\"sk-estimator sk-toggleable\"><input class=\"sk-toggleable__control sk-hidden--visually\" id=\"bdca3ecb-328b-4c5f-ac9a-0cec8f3cbb8b\" type=\"checkbox\" ><label class=\"sk-toggleable__label\" for=\"bdca3ecb-328b-4c5f-ac9a-0cec8f3cbb8b\">LinearRegression</label><div class=\"sk-toggleable__content\"><pre>LinearRegression()</pre></div></div></div></div></div></div></div>"
      ],
      "text/plain": [
       "Pipeline(steps=[('poly', PolynomialFeatures()), ('model', LinearRegression())])"
      ]
     },
     "execution_count": 17,
     "metadata": {},
     "output_type": "execute_result"
    }
   ],
   "source": [
    "from sklearn import set_config                      # to change the display\n",
    "from sklearn.utils import estimator_html_repr       # to save the diagram into HTML format\n",
    "\n",
    "# set config to diagram for visualizing the pipelines/composite estimators\n",
    "set_config(display='diagram')\n",
    "\n",
    "# saving pipeline as html format\n",
    "with open('./tmp/pipeline.html', 'w') as f:  \n",
    "    f.write(estimator_html_repr(model_gcv.best_estimator_))\n",
    "    \n",
    "# the best estimator from grid search\n",
    "model_gcv.best_estimator_"
   ]
  },
  {
   "cell_type": "code",
   "execution_count": 18,
   "metadata": {},
   "outputs": [
    {
     "data": {
      "text/plain": [
       "(1, 3)"
      ]
     },
     "execution_count": 18,
     "metadata": {},
     "output_type": "execute_result"
    }
   ],
   "source": [
    "model_gcv.best_estimator_['poly'].n_input_features_, model_gcv.best_estimator_['poly'].n_output_features_"
   ]
  },
  {
   "cell_type": "code",
   "execution_count": 19,
   "metadata": {},
   "outputs": [
    {
     "data": {
      "text/plain": [
       "array([[0],\n",
       "       [1],\n",
       "       [2]], dtype=int64)"
      ]
     },
     "execution_count": 19,
     "metadata": {},
     "output_type": "execute_result"
    }
   ],
   "source": [
    "model_gcv.best_estimator_['poly'].powers_"
   ]
  },
  {
   "cell_type": "code",
   "execution_count": 20,
   "metadata": {},
   "outputs": [
    {
     "name": "stdout",
     "output_type": "stream",
     "text": [
      "Mean absolute error: 5694.11\n",
      "Residual sum of squares (MSE): 54823214.58\n",
      "R2-score: 0.63\n"
     ]
    }
   ],
   "source": [
    "y_predicted = model_gcv.predict(X_test)\n",
    "\n",
    "print(\"Mean absolute error: %.2f\" % np.mean(np.absolute(y_predicted - y_test)))\n",
    "print(\"Residual sum of squares (MSE): %.2f\" % np.mean((y_predicted - y_test) ** 2))\n",
    "print(\"R2-score: %.2f\" % r2_score(y_true=y_test, y_pred=y_predicted))"
   ]
  },
  {
   "cell_type": "code",
   "execution_count": 21,
   "metadata": {},
   "outputs": [
    {
     "name": "stdout",
     "output_type": "stream",
     "text": [
      "scores: [0.68157368 0.65088307 0.64907291 0.56979274 0.63226374]\n",
      "0.64 score with a standard deviation of 0.04\n"
     ]
    }
   ],
   "source": [
    "from sklearn.model_selection import cross_val_score\n",
    "scores = cross_val_score(model_gcv.best_estimator_, X_test, y_test, cv=5)\n",
    "print(f\"scores: {scores}\")\n",
    "print(\"%0.2f score with a standard deviation of %0.2f\" % (scores.mean(), scores.std()))"
   ]
  },
  {
   "cell_type": "code",
   "execution_count": null,
   "metadata": {},
   "outputs": [],
   "source": []
  }
 ],
 "metadata": {
  "kernelspec": {
   "display_name": "Python [conda env:LevelUP]",
   "language": "python",
   "name": "conda-env-LevelUP-py"
  },
  "language_info": {
   "codemirror_mode": {
    "name": "ipython",
    "version": 3
   },
   "file_extension": ".py",
   "mimetype": "text/x-python",
   "name": "python",
   "nbconvert_exporter": "python",
   "pygments_lexer": "ipython3",
   "version": "3.9.5"
  }
 },
 "nbformat": 4,
 "nbformat_minor": 4
}
